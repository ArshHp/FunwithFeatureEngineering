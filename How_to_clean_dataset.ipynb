{
 "cells": [
  {
   "cell_type": "markdown",
   "metadata": {},
   "source": [
    "# Feature Enginnering using two datasets with garbage values in it. "
   ]
  },
  {
   "cell_type": "markdown",
   "metadata": {},
   "source": [
    "The data files Bollywood.csv and Bollywood - 2 .csv contains the box office collection and social media promotion information about the movies released in 2013 – 2015 period. \n",
    "\n",
    "Following is the information about the columns (names can vary):\n",
    "•\tSerial Id of movie\n",
    "•\tRelease date of movie\n",
    "•\tRelease time of movie like Long Weekend (3), Festive Season (1), Holiday Season (2), and Normal (4)\n",
    "•\tGenre of movie like Romance, Thriller, Action, comedy etc.\n",
    "•\tBudget of movie in crores\n",
    "•\tBox office collection of movie in crore\n",
    "•\tYouTube views of movies trailers\n",
    "•\tYouTube likes for the movie trailers\n",
    "•\tYouTube dislikes for the movie trailers\n"
   ]
  },
  {
   "cell_type": "code",
   "execution_count": 1,
   "metadata": {},
   "outputs": [],
   "source": [
    "#Import required libraries \n",
    "import pandas as pd\n",
    "import numpy as np"
   ]
  },
  {
   "cell_type": "code",
   "execution_count": 2,
   "metadata": {},
   "outputs": [
    {
     "name": "stdout",
     "output_type": "stream",
     "text": [
      "<class 'pandas.core.frame.DataFrame'>\n",
      "RangeIndex: 51 entries, 0 to 50\n",
      "Data columns (total 11 columns):\n",
      "No                     51 non-null int64\n",
      "RelDate                51 non-null object\n",
      "MovieName              51 non-null object\n",
      "ReleaseTime            51 non-null int64\n",
      "Genre                  51 non-null object\n",
      "Budget                 51 non-null object\n",
      "BoxOfficeCollection    51 non-null object\n",
      "YoutubeViews           51 non-null int64\n",
      "YoutubeLikes           50 non-null float64\n",
      "YoutubeDislikes        48 non-null float64\n",
      "YoutubeLikeDislikes    51 non-null int64\n",
      "dtypes: float64(2), int64(4), object(5)\n",
      "memory usage: 4.5+ KB\n",
      "None\n",
      "<class 'pandas.core.frame.DataFrame'>\n",
      "RangeIndex: 99 entries, 0 to 98\n",
      "Data columns (total 10 columns):\n",
      "Movie_ID                 99 non-null int64\n",
      "Release_Date             99 non-null object\n",
      "Movie_Name               99 non-null object\n",
      "Release_Time             99 non-null object\n",
      "Genre                    99 non-null object\n",
      "BudgetCr                 99 non-null int64\n",
      "BoxOfficeCollectionCr    99 non-null float64\n",
      "Youtube_Views            99 non-null int64\n",
      "Youtube_Likes            99 non-null int64\n",
      "Youtube_Dislikes         99 non-null int64\n",
      "dtypes: float64(1), int64(5), object(4)\n",
      "memory usage: 7.9+ KB\n",
      "None\n"
     ]
    }
   ],
   "source": [
    "#Read the given dataset into dataframes\n",
    "df1 = pd.read_csv('bollywood.csv')\n",
    "df2 = pd.read_csv('bollywood - 2.csv')\n",
    "\n",
    "#List the information regarding both the dataframes\n",
    "print (df1.info())\n",
    "print (df2.info())"
   ]
  },
  {
   "cell_type": "markdown",
   "metadata": {},
   "source": [
    "# Approach Implemented : Doing clean-up both data frames separately and then will concatenate the dataset into one"
   ]
  },
  {
   "cell_type": "code",
   "execution_count": 3,
   "metadata": {},
   "outputs": [
    {
     "data": {
      "text/html": [
       "<div>\n",
       "<style scoped>\n",
       "    .dataframe tbody tr th:only-of-type {\n",
       "        vertical-align: middle;\n",
       "    }\n",
       "\n",
       "    .dataframe tbody tr th {\n",
       "        vertical-align: top;\n",
       "    }\n",
       "\n",
       "    .dataframe thead th {\n",
       "        text-align: right;\n",
       "    }\n",
       "</style>\n",
       "<table border=\"1\" class=\"dataframe\">\n",
       "  <thead>\n",
       "    <tr style=\"text-align: right;\">\n",
       "      <th></th>\n",
       "      <th>No</th>\n",
       "      <th>RelDate</th>\n",
       "      <th>MovieName</th>\n",
       "      <th>ReleaseTime</th>\n",
       "      <th>Genre</th>\n",
       "      <th>Budget</th>\n",
       "      <th>BoxOfficeCollection</th>\n",
       "      <th>YoutubeViews</th>\n",
       "      <th>YoutubeLikes</th>\n",
       "      <th>YoutubeDislikes</th>\n",
       "      <th>YoutubeLikeDislikes</th>\n",
       "    </tr>\n",
       "  </thead>\n",
       "  <tbody>\n",
       "    <tr>\n",
       "      <td>0</td>\n",
       "      <td>1</td>\n",
       "      <td>Apr-18-2014</td>\n",
       "      <td>2 States</td>\n",
       "      <td>3</td>\n",
       "      <td>RomanceGenre</td>\n",
       "      <td>36Cr</td>\n",
       "      <td>104</td>\n",
       "      <td>8576361</td>\n",
       "      <td>26622.0</td>\n",
       "      <td>2527.0</td>\n",
       "      <td>29149</td>\n",
       "    </tr>\n",
       "    <tr>\n",
       "      <td>1</td>\n",
       "      <td>2</td>\n",
       "      <td>Jan-4-2013</td>\n",
       "      <td>Table No. 21</td>\n",
       "      <td>4</td>\n",
       "      <td>Thriller</td>\n",
       "      <td>Cr10</td>\n",
       "      <td>12</td>\n",
       "      <td>1087320</td>\n",
       "      <td>1129.0</td>\n",
       "      <td>137.0</td>\n",
       "      <td>1266</td>\n",
       "    </tr>\n",
       "    <tr>\n",
       "      <td>2</td>\n",
       "      <td>3</td>\n",
       "      <td>Jul-18-2014</td>\n",
       "      <td>Amit Sahni Ki List</td>\n",
       "      <td>4</td>\n",
       "      <td>ComedyGenre</td>\n",
       "      <td>10Cr</td>\n",
       "      <td>4</td>\n",
       "      <td>572336</td>\n",
       "      <td>586.0</td>\n",
       "      <td>54.0</td>\n",
       "      <td>640</td>\n",
       "    </tr>\n",
       "    <tr>\n",
       "      <td>3</td>\n",
       "      <td>4</td>\n",
       "      <td>Jan-4-2013</td>\n",
       "      <td>Rajdhani Express</td>\n",
       "      <td>4</td>\n",
       "      <td>DramaGenre</td>\n",
       "      <td>7Cr</td>\n",
       "      <td>383</td>\n",
       "      <td>42626</td>\n",
       "      <td>86.0</td>\n",
       "      <td>19.0</td>\n",
       "      <td>105</td>\n",
       "    </tr>\n",
       "    <tr>\n",
       "      <td>4</td>\n",
       "      <td>5</td>\n",
       "      <td>Jul-4-2014</td>\n",
       "      <td>Bobby Jasoos</td>\n",
       "      <td>44</td>\n",
       "      <td>ComedyGenre</td>\n",
       "      <td>18Cr</td>\n",
       "      <td>10.8</td>\n",
       "      <td>3113427</td>\n",
       "      <td>4512.0</td>\n",
       "      <td>1224.0</td>\n",
       "      <td>5736</td>\n",
       "    </tr>\n",
       "  </tbody>\n",
       "</table>\n",
       "</div>"
      ],
      "text/plain": [
       "   No      RelDate           MovieName  ReleaseTime         Genre Budget  \\\n",
       "0   1  Apr-18-2014            2 States            3  RomanceGenre   36Cr   \n",
       "1   2   Jan-4-2013        Table No. 21            4     Thriller    Cr10   \n",
       "2   3  Jul-18-2014  Amit Sahni Ki List            4   ComedyGenre   10Cr   \n",
       "3   4   Jan-4-2013    Rajdhani Express            4    DramaGenre    7Cr   \n",
       "4   5   Jul-4-2014        Bobby Jasoos           44   ComedyGenre   18Cr   \n",
       "\n",
       "  BoxOfficeCollection  YoutubeViews  YoutubeLikes  YoutubeDislikes  \\\n",
       "0                 104       8576361       26622.0           2527.0   \n",
       "1                  12       1087320        1129.0            137.0   \n",
       "2                   4        572336         586.0             54.0   \n",
       "3                 383         42626          86.0             19.0   \n",
       "4                10.8       3113427        4512.0           1224.0   \n",
       "\n",
       "   YoutubeLikeDislikes  \n",
       "0                29149  \n",
       "1                 1266  \n",
       "2                  640  \n",
       "3                  105  \n",
       "4                 5736  "
      ]
     },
     "execution_count": 3,
     "metadata": {},
     "output_type": "execute_result"
    }
   ],
   "source": [
    "#Start cleaning dataset1\n",
    "#List the top 5 rows\n",
    "df1.head()"
   ]
  },
  {
   "cell_type": "code",
   "execution_count": 4,
   "metadata": {},
   "outputs": [
    {
     "data": {
      "text/plain": [
       "Index(['No', 'RelDate', 'MovieName', 'ReleaseTime', 'Genre', 'Budget',\n",
       "       'BoxOfficeCollection', 'YoutubeViews', 'YoutubeLikes',\n",
       "       'YoutubeDislikes', 'YoutubeLikeDislikes'],\n",
       "      dtype='object')"
      ]
     },
     "execution_count": 4,
     "metadata": {},
     "output_type": "execute_result"
    }
   ],
   "source": [
    "#list the available set of features given \n",
    "df1.columns"
   ]
  },
  {
   "cell_type": "code",
   "execution_count": 5,
   "metadata": {},
   "outputs": [
    {
     "data": {
      "text/plain": [
       "No                     0\n",
       "RelDate                0\n",
       "MovieName              0\n",
       "ReleaseTime            0\n",
       "Genre                  0\n",
       "Budget                 0\n",
       "BoxOfficeCollection    0\n",
       "YoutubeViews           0\n",
       "YoutubeLikes           1\n",
       "YoutubeDislikes        3\n",
       "YoutubeLikeDislikes    0\n",
       "dtype: int64"
      ]
     },
     "execution_count": 5,
     "metadata": {},
     "output_type": "execute_result"
    }
   ],
   "source": [
    "#Check for null values if available in dataset1\n",
    "df1.isnull().sum()"
   ]
  },
  {
   "cell_type": "markdown",
   "metadata": {},
   "source": [
    "# Issue : 1 Dataset has few null values to handle"
   ]
  },
  {
   "cell_type": "code",
   "execution_count": 6,
   "metadata": {},
   "outputs": [
    {
     "data": {
      "text/plain": [
       "No                     0\n",
       "RelDate                0\n",
       "MovieName              0\n",
       "ReleaseTime            0\n",
       "Genre                  0\n",
       "Budget                 0\n",
       "BoxOfficeCollection    0\n",
       "YoutubeViews           0\n",
       "YoutubeLikes           0\n",
       "YoutubeDislikes        0\n",
       "YoutubeLikeDislikes    0\n",
       "dtype: int64"
      ]
     },
     "execution_count": 6,
     "metadata": {},
     "output_type": "execute_result"
    }
   ],
   "source": [
    "#Based on observation, \"YoutubeLikeDislikes\" column is the summation of two columns \"YoutubeLikes\" and \"YoutubeDislikes\"\n",
    "#Filling missing values using this observation\n",
    "\n",
    "# \"YoutubeLikes\" should be equal to \"YoutubeLikeDislikes\" - \"YoutubeDislikes\"\n",
    "df1.YoutubeLikes.fillna((df1.YoutubeLikeDislikes - df1.YoutubeDislikes) , inplace=True)\n",
    "\n",
    "# \"YoutubeDislikes\" should be equal to \"YoutubeLikeDislikes\" - \"YoutubeLikes\"\n",
    "df1.YoutubeDislikes.fillna((df1.YoutubeLikeDislikes - df1.YoutubeLikes) , inplace=True)\n",
    "\n",
    "#Revalidate the null check after above missing value handling operation\n",
    "df1.isnull().sum()\n"
   ]
  },
  {
   "cell_type": "markdown",
   "metadata": {},
   "source": [
    "Observation: Null Value handled, dataset1 (df1) is free from null values "
   ]
  },
  {
   "cell_type": "code",
   "execution_count": 7,
   "metadata": {},
   "outputs": [
    {
     "name": "stdout",
     "output_type": "stream",
     "text": [
      "<class 'pandas.core.frame.DataFrame'>\n",
      "RangeIndex: 51 entries, 0 to 50\n",
      "Data columns (total 11 columns):\n",
      "No                     51 non-null int64\n",
      "RelDate                51 non-null object\n",
      "MovieName              51 non-null object\n",
      "ReleaseTime            51 non-null int64\n",
      "Genre                  51 non-null object\n",
      "Budget                 51 non-null object\n",
      "BoxOfficeCollection    51 non-null object\n",
      "YoutubeViews           51 non-null int64\n",
      "YoutubeLikes           51 non-null float64\n",
      "YoutubeDislikes        51 non-null float64\n",
      "YoutubeLikeDislikes    51 non-null int64\n",
      "dtypes: float64(2), int64(4), object(5)\n",
      "memory usage: 4.5+ KB\n"
     ]
    }
   ],
   "source": [
    "#List the info to see total non-null values vs total values. \n",
    "df1.info()"
   ]
  },
  {
   "cell_type": "markdown",
   "metadata": {},
   "source": [
    "# Issue No. 2 , Movie Release date has few invalid date entries"
   ]
  },
  {
   "cell_type": "code",
   "execution_count": 8,
   "metadata": {},
   "outputs": [
    {
     "name": "stdout",
     "output_type": "stream",
     "text": [
      "Index :  {6} Sqp-19-2014\n",
      "Index :  {12} Jum-27-2014\n",
      "Index :  {17} juu-6-2014\n",
      "Index :  {34} Feb-21-204\n"
     ]
    }
   ],
   "source": [
    "#Get the list of invalid entries\n",
    "#import required library to use datetime functions\n",
    "import datetime\n",
    "\n",
    "# Check the date columns for the format %b-%d-%Y\n",
    "# %b (Month as abbreviated name)\n",
    "# %d (Day of the month as a zero-padded decimal number)\n",
    "# %Y (Year with century as a decimal number)\n",
    "#With error as ‘coerce’, then invalid parsing will be set as NaN.\n",
    "mask = pd.to_datetime(df1['RelDate'], format='%b-%d-%Y', errors='coerce').notna()\n",
    "\n",
    "#For all values captured, fetch only False and print respective date to see the invalidity\n",
    "for index, value in mask.items():\n",
    "    if (not value):\n",
    "        print (\"Index : \", {index}, df1['RelDate'].values[index])"
   ]
  },
  {
   "cell_type": "markdown",
   "metadata": {},
   "source": [
    "Above 4 dates are typo during data entry, we need to correct it manually. "
   ]
  },
  {
   "cell_type": "code",
   "execution_count": 9,
   "metadata": {},
   "outputs": [
    {
     "data": {
      "text/html": [
       "<div>\n",
       "<style scoped>\n",
       "    .dataframe tbody tr th:only-of-type {\n",
       "        vertical-align: middle;\n",
       "    }\n",
       "\n",
       "    .dataframe tbody tr th {\n",
       "        vertical-align: top;\n",
       "    }\n",
       "\n",
       "    .dataframe thead th {\n",
       "        text-align: right;\n",
       "    }\n",
       "</style>\n",
       "<table border=\"1\" class=\"dataframe\">\n",
       "  <thead>\n",
       "    <tr style=\"text-align: right;\">\n",
       "      <th></th>\n",
       "      <th>No</th>\n",
       "      <th>RelDate</th>\n",
       "      <th>MovieName</th>\n",
       "      <th>ReleaseTime</th>\n",
       "      <th>Genre</th>\n",
       "      <th>Budget</th>\n",
       "      <th>BoxOfficeCollection</th>\n",
       "      <th>YoutubeViews</th>\n",
       "      <th>YoutubeLikes</th>\n",
       "      <th>YoutubeDislikes</th>\n",
       "      <th>YoutubeLikeDislikes</th>\n",
       "    </tr>\n",
       "  </thead>\n",
       "  <tbody>\n",
       "    <tr>\n",
       "      <td>12</td>\n",
       "      <td>13</td>\n",
       "      <td>Jum-27-2014</td>\n",
       "      <td>Ek Villain</td>\n",
       "      <td>2</td>\n",
       "      <td>RomanceGenre</td>\n",
       "      <td>35Cr</td>\n",
       "      <td>105.5</td>\n",
       "      <td>4518748</td>\n",
       "      <td>13558.0</td>\n",
       "      <td>1094.0</td>\n",
       "      <td>14652</td>\n",
       "    </tr>\n",
       "    <tr>\n",
       "      <td>17</td>\n",
       "      <td>18</td>\n",
       "      <td>juu-6-2014</td>\n",
       "      <td>Filmistaan</td>\n",
       "      <td>2</td>\n",
       "      <td>ComedyGenre</td>\n",
       "      <td>10Cr</td>\n",
       "      <td>6</td>\n",
       "      <td>989096</td>\n",
       "      <td>1608.0</td>\n",
       "      <td>173.0</td>\n",
       "      <td>1781</td>\n",
       "    </tr>\n",
       "  </tbody>\n",
       "</table>\n",
       "</div>"
      ],
      "text/plain": [
       "    No      RelDate   MovieName  ReleaseTime         Genre Budget  \\\n",
       "12  13  Jum-27-2014  Ek Villain            2  RomanceGenre   35Cr   \n",
       "17  18   juu-6-2014  Filmistaan            2   ComedyGenre   10Cr   \n",
       "\n",
       "   BoxOfficeCollection  YoutubeViews  YoutubeLikes  YoutubeDislikes  \\\n",
       "12               105.5       4518748       13558.0           1094.0   \n",
       "17                   6        989096        1608.0            173.0   \n",
       "\n",
       "    YoutubeLikeDislikes  \n",
       "12                14652  \n",
       "17                 1781  "
      ]
     },
     "execution_count": 9,
     "metadata": {},
     "output_type": "execute_result"
    }
   ],
   "source": [
    "df1.loc[(df1['RelDate'] == 'Jum-27-2014') | (df1['RelDate'] == 'juu-6-2014') ]\n"
   ]
  },
  {
   "cell_type": "markdown",
   "metadata": {},
   "source": [
    "#Based on external knowledge base, Movie \"Ek Villain\" was released on June 27, 2014 and the movie \"Filmistaan\" released on June 6, 2014.\n",
    "#Hence going with external knowledge base and considering Jun for the typo mistake"
   ]
  },
  {
   "cell_type": "code",
   "execution_count": 10,
   "metadata": {},
   "outputs": [],
   "source": [
    "#Replace above invalid date into correct names\n",
    "df1['RelDate'].values[6] = \"Sep-19-2014\"\n",
    "df1['RelDate'].values[12] = \"Jun-27-2014\" #Considering June,as explained above. \n",
    "df1['RelDate'].values[17] = \"Jun-6-2014\"  #Considering June, as explained above.\n",
    "df1['RelDate'].values[34] = \"Feb-21-2014\""
   ]
  },
  {
   "cell_type": "code",
   "execution_count": 11,
   "metadata": {},
   "outputs": [
    {
     "name": "stdout",
     "output_type": "stream",
     "text": [
      "All date field is correct\n"
     ]
    }
   ],
   "source": [
    "#Checkig again after doing replacements and see if any invalid date exist\n",
    "\n",
    "mask = pd.to_datetime(df1['RelDate'], format='%b-%d-%Y', errors='coerce').notna()\n",
    "flag = 0\n",
    "for index, value in mask.items():\n",
    "    if (not value):\n",
    "        print (\"Index : \", {index}, df1['RelDate'].values[index])\n",
    "        flag = 1\n",
    "        break\n",
    "if (flag ==0):\n",
    "    print (\"All date field is correct\")"
   ]
  },
  {
   "cell_type": "markdown",
   "metadata": {},
   "source": [
    "# Issue No: 3 # Release Date is not in DateTime format"
   ]
  },
  {
   "cell_type": "code",
   "execution_count": 12,
   "metadata": {},
   "outputs": [
    {
     "name": "stdout",
     "output_type": "stream",
     "text": [
      "<class 'pandas.core.frame.DataFrame'>\n",
      "RangeIndex: 51 entries, 0 to 50\n",
      "Data columns (total 11 columns):\n",
      "No                     51 non-null int64\n",
      "RelDate                51 non-null object\n",
      "MovieName              51 non-null object\n",
      "ReleaseTime            51 non-null int64\n",
      "Genre                  51 non-null object\n",
      "Budget                 51 non-null object\n",
      "BoxOfficeCollection    51 non-null object\n",
      "YoutubeViews           51 non-null int64\n",
      "YoutubeLikes           51 non-null float64\n",
      "YoutubeDislikes        51 non-null float64\n",
      "YoutubeLikeDislikes    51 non-null int64\n",
      "dtypes: float64(2), int64(4), object(5)\n",
      "memory usage: 4.5+ KB\n"
     ]
    }
   ],
   "source": [
    "df1.info()"
   ]
  },
  {
   "cell_type": "code",
   "execution_count": 13,
   "metadata": {},
   "outputs": [],
   "source": [
    "# Converting Release Date into date format with format as %b-%d-%Y\n",
    "# %b (Month as abbreviated name)\n",
    "# %d (Day of the month as a zero-padded decimal number)\n",
    "# %Y (Year with century as a decimal number)\n",
    "df1['RelDate'] = pd.to_datetime(df1['RelDate'], format='%b-%d-%Y')"
   ]
  },
  {
   "cell_type": "code",
   "execution_count": 14,
   "metadata": {},
   "outputs": [
    {
     "name": "stdout",
     "output_type": "stream",
     "text": [
      "<class 'pandas.core.frame.DataFrame'>\n",
      "RangeIndex: 51 entries, 0 to 50\n",
      "Data columns (total 11 columns):\n",
      "No                     51 non-null int64\n",
      "RelDate                51 non-null datetime64[ns]\n",
      "MovieName              51 non-null object\n",
      "ReleaseTime            51 non-null int64\n",
      "Genre                  51 non-null object\n",
      "Budget                 51 non-null object\n",
      "BoxOfficeCollection    51 non-null object\n",
      "YoutubeViews           51 non-null int64\n",
      "YoutubeLikes           51 non-null float64\n",
      "YoutubeDislikes        51 non-null float64\n",
      "YoutubeLikeDislikes    51 non-null int64\n",
      "dtypes: datetime64[ns](1), float64(2), int64(4), object(4)\n",
      "memory usage: 4.5+ KB\n"
     ]
    }
   ],
   "source": [
    "# Validate the change in 'RelDate' Column\n",
    "df1.info()"
   ]
  },
  {
   "cell_type": "markdown",
   "metadata": {},
   "source": [
    "RelDate field is corrected and converted into datetime format"
   ]
  },
  {
   "cell_type": "code",
   "execution_count": 15,
   "metadata": {},
   "outputs": [
    {
     "name": "stdout",
     "output_type": "stream",
     "text": [
      "No duplicate found\n"
     ]
    }
   ],
   "source": [
    "#Check for any duplicate movie name in dataset 1 (df1)\n",
    "if (df1['MovieName'].duplicated().all()):\n",
    "    print (\"Duplicates exist\")\n",
    "else:\n",
    "    print (\"No duplicate found\")\n",
    "\n"
   ]
  },
  {
   "cell_type": "markdown",
   "metadata": {},
   "source": [
    "# Issue No. 5 : Release Time Entered has typo mistake"
   ]
  },
  {
   "cell_type": "code",
   "execution_count": 16,
   "metadata": {},
   "outputs": [
    {
     "name": "stdout",
     "output_type": "stream",
     "text": [
      "Index :  {4} 44\n",
      "[4]\n"
     ]
    }
   ],
   "source": [
    "# Release Time, possible values are 1,2,3 & 4 \n",
    "# Release time of movie like Long Weekend (3), Festive Season (1), Holiday Season (2), and Normal (4)\n",
    "\n",
    "# Validate if Release time is correct for all fields \n",
    "\n",
    "# Prepare the list with permissible values for Release Time\n",
    "Rel_list = ['1','2','3','4']\n",
    "\n",
    "# Check if column 'ReleaseTime' contains anything other than permissible values\n",
    "index_reltime = df1['ReleaseTime'].isin(Rel_list)\n",
    "# Prase the result for issye\n",
    "Index_With_Issue = []\n",
    "for index, value in index_reltime.items():\n",
    "    if (not value):\n",
    "        # If found, print the probelmatic index & Release Time\n",
    "        print (\"Index : \", {index}, df1['ReleaseTime'].values[index])\n",
    "        Index_With_Issue.append(index)\n",
    "\n",
    "print ((Index_With_Issue))"
   ]
  },
  {
   "cell_type": "code",
   "execution_count": 17,
   "metadata": {},
   "outputs": [],
   "source": [
    "# Movie time is not as per required possible value. \n",
    "# Consider it as typo issue and modifying it to 4. \n",
    "# As its a single value, replacing it with 4, if there are more typos, it will be handled as per loop\n",
    "for idx in Index_With_Issue: \n",
    "    df1['ReleaseTime'].values[idx] = \"4\" #Single wrong value so replaced by 4."
   ]
  },
  {
   "cell_type": "code",
   "execution_count": 18,
   "metadata": {},
   "outputs": [
    {
     "name": "stdout",
     "output_type": "stream",
     "text": [
      "All is fine with Release time\n"
     ]
    }
   ],
   "source": [
    "# Revalidating , if the issue is fixed after replacement instructions\n",
    "Rel_list = ['1','2','3','4']\n",
    "index_reltime = df1['ReleaseTime'].isin(Rel_list)\n",
    "for index, value in index_reltime.items():\n",
    "    if (not value):\n",
    "        print (\"Index : \", {index}, df1['ReleaseTime'].values[index])\n",
    "        print (\"Still having issues\")\n",
    "print (\"All is fine with Release time\")"
   ]
  },
  {
   "cell_type": "markdown",
   "metadata": {},
   "source": [
    "# Issue No. 6 : Genre duplicates with additional spaces for dataset 1"
   ]
  },
  {
   "cell_type": "code",
   "execution_count": 19,
   "metadata": {},
   "outputs": [
    {
     "data": {
      "text/plain": [
       "array(['RomanceGenre', 'Thriller ', 'ComedyGenre', ' DramaGenre',\n",
       "       'ActionGenre', 'Action ', 'Thriller', ' Drama '], dtype=object)"
      ]
     },
     "execution_count": 19,
     "metadata": {},
     "output_type": "execute_result"
    }
   ],
   "source": [
    "#Lets consider Genre for dataset1\n",
    "df1['Genre'].unique()"
   ]
  },
  {
   "cell_type": "markdown",
   "metadata": {},
   "source": [
    "Found few issues in Genre like \n",
    "1.  'Thriller '  & 'Thriller' : Additional space after first 'Thriller ' as suffix\n",
    "2.  ' DramaGenre' & ' Drama ' : Additional space before ' DramaGenre' as prefix\n",
    "3.  'ActionGenre'& 'Action '  : Additional space after second 'Action ' as suffix\n",
    "4.  For few Genre, word 'Genre' also comes as different entry. \n",
    "\n",
    "Lets fix all of them "
   ]
  },
  {
   "cell_type": "code",
   "execution_count": 20,
   "metadata": {},
   "outputs": [],
   "source": [
    "#find all columns with incorrect genre and replace with correct word'\n",
    "df1.loc[df1['Genre'] == 'Thriller ', 'Genre'] = 'Thriller'\n",
    "df1.loc[df1['Genre'] == ' DramaGenre', 'Genre'] = 'Drama'\n",
    "df1.loc[df1['Genre'] == ' Drama ', 'Genre'] = 'Drama'\n",
    "df1.loc[df1['Genre'] == 'ActionGenre', 'Genre'] = 'Action'\n",
    "df1.loc[df1['Genre'] ==  'Action ', 'Genre'] = 'Action'\n",
    "df1.loc[df1['Genre'] ==  'RomanceGenre', 'Genre'] = 'Romance'\n",
    "df1.loc[df1['Genre'] ==  'ComedyGenre', 'Genre'] = 'Comedy'\n",
    "    "
   ]
  },
  {
   "cell_type": "code",
   "execution_count": 21,
   "metadata": {},
   "outputs": [
    {
     "data": {
      "text/plain": [
       "array(['Romance', 'Thriller', 'Comedy', 'Drama', 'Action'], dtype=object)"
      ]
     },
     "execution_count": 21,
     "metadata": {},
     "output_type": "execute_result"
    }
   ],
   "source": [
    "# Lets validate Genre after above correction\n",
    "df1['Genre'].unique()\n"
   ]
  },
  {
   "cell_type": "markdown",
   "metadata": {},
   "source": [
    "All Genre is now corrected "
   ]
  },
  {
   "cell_type": "markdown",
   "metadata": {},
   "source": [
    "# Issue No. 7: Budget has inconsistent unit Cr, few in forward, few in backward"
   ]
  },
  {
   "cell_type": "code",
   "execution_count": 22,
   "metadata": {},
   "outputs": [
    {
     "data": {
      "text/plain": [
       "array(['36Cr', 'Cr10', '10Cr', '7Cr', '18Cr', '30Cr', '33Cr', '31Cr',\n",
       "       '2Cr', '28Cr', '5Cr', '35Cr', '4Cr', '60Cr', 'Cr60', '15Cr',\n",
       "       '27Cr', '50Cr', '24Cr', '48Cr', '42Cr', '125Cr', '12Cr', '11Cr',\n",
       "       '21Cr', '20Cr', 'Cr30', '75Cr', '120Cr', '100Cr', 'Cr5', '8Cr',\n",
       "       '16Cr'], dtype=object)"
      ]
     },
     "execution_count": 22,
     "metadata": {},
     "output_type": "execute_result"
    }
   ],
   "source": [
    "#Lets handle Budget now in dataset1\n",
    "df1['Budget'].unique()"
   ]
  },
  {
   "cell_type": "code",
   "execution_count": 23,
   "metadata": {},
   "outputs": [],
   "source": [
    "# Using regex to identify CR or cr or Cr or cR pattern and replace them with blank space\n",
    "df1['Budget'] = df1['Budget'].replace(to_replace ='[Cc][Rr]', value = '', regex = True) "
   ]
  },
  {
   "cell_type": "markdown",
   "metadata": {},
   "source": [
    "# Issue No. 8: Budget has object data type, need to convert into float. "
   ]
  },
  {
   "cell_type": "code",
   "execution_count": 24,
   "metadata": {},
   "outputs": [
    {
     "data": {
      "text/plain": [
       "0    36.0\n",
       "1    10.0\n",
       "2    10.0\n",
       "3     7.0\n",
       "4    18.0\n",
       "Name: Budget, dtype: float32"
      ]
     },
     "execution_count": 24,
     "metadata": {},
     "output_type": "execute_result"
    }
   ],
   "source": [
    "df1['Budget'] = pd.to_numeric(df1['Budget'], downcast='float')\n",
    "df1['Budget'].head()"
   ]
  },
  {
   "cell_type": "code",
   "execution_count": 25,
   "metadata": {},
   "outputs": [
    {
     "data": {
      "text/plain": [
       "str"
      ]
     },
     "execution_count": 25,
     "metadata": {},
     "output_type": "execute_result"
    }
   ],
   "source": [
    "#BoxOfficeCollection    \n",
    "type(df1['BoxOfficeCollection'].values[0])"
   ]
  },
  {
   "cell_type": "code",
   "execution_count": 26,
   "metadata": {},
   "outputs": [
    {
     "data": {
      "text/plain": [
       "array(['104', '12', '4', '383', '10.8', '35', '24.6', '40', '27',\n",
       "       'Cr0.01', '6', '10.25', '105.5', '1.8', '163', 'Cr0.09', '162',\n",
       "       '58.9', '12.6', '3.65', '14.3', '76.7', '69', '21.5', '103', '44',\n",
       "       '27.16', '10', '1.5', '25', '65', '62.2', '27.25', '16', '129',\n",
       "       '130', '32', '63.7', '22', '111', '39.4', '377', '5.82', '36',\n",
       "       '11', '32.7', '2', 'Cr0.5', '2.5'], dtype=object)"
      ]
     },
     "execution_count": 26,
     "metadata": {},
     "output_type": "execute_result"
    }
   ],
   "source": [
    "df1['BoxOfficeCollection'].unique()"
   ]
  },
  {
   "cell_type": "markdown",
   "metadata": {},
   "source": [
    "# Issue No. 9: BoxOfficeCollection has inconsistent unit Cr, few in forward, few in backward"
   ]
  },
  {
   "cell_type": "code",
   "execution_count": 27,
   "metadata": {},
   "outputs": [
    {
     "data": {
      "text/plain": [
       "array(['104', '12', '4', '383', '10.8', '35', '24.6', '40', '27', '0.01',\n",
       "       '6', '10.25', '105.5', '1.8', '163', '0.09', '162', '58.9', '12.6',\n",
       "       '3.65', '14.3', '76.7', '69', '21.5', '103', '44', '27.16', '10',\n",
       "       '1.5', '25', '65', '62.2', '27.25', '16', '129', '130', '32',\n",
       "       '63.7', '22', '111', '39.4', '377', '5.82', '36', '11', '32.7',\n",
       "       '2', '0.5', '2.5'], dtype=object)"
      ]
     },
     "execution_count": 27,
     "metadata": {},
     "output_type": "execute_result"
    }
   ],
   "source": [
    "# Using regex to identify CR or cr or Cr or cR pattern and replace them with blank space\n",
    "df1['BoxOfficeCollection'] = df1['BoxOfficeCollection'].replace(to_replace ='[Cc][Rr]', value = '', regex = True)\n",
    "\n",
    "#Validate the fix\n",
    "df1['BoxOfficeCollection'].unique()"
   ]
  },
  {
   "cell_type": "markdown",
   "metadata": {},
   "source": [
    "# Issue No. 10: BoxOfficeCollection has object data type, need to convert ino float. "
   ]
  },
  {
   "cell_type": "code",
   "execution_count": 28,
   "metadata": {},
   "outputs": [
    {
     "data": {
      "text/plain": [
       "0    104.0\n",
       "1     12.0\n",
       "2      4.0\n",
       "3    383.0\n",
       "4     10.8\n",
       "Name: BoxOfficeCollection, dtype: float32"
      ]
     },
     "execution_count": 28,
     "metadata": {},
     "output_type": "execute_result"
    }
   ],
   "source": [
    "#Converting into float data type\n",
    "df1['BoxOfficeCollection'] = pd.to_numeric(df1['BoxOfficeCollection'], downcast='float')\n",
    "df1['BoxOfficeCollection'].head()"
   ]
  },
  {
   "cell_type": "code",
   "execution_count": 29,
   "metadata": {},
   "outputs": [
    {
     "data": {
      "text/plain": [
       "numpy.int64"
      ]
     },
     "execution_count": 29,
     "metadata": {},
     "output_type": "execute_result"
    }
   ],
   "source": [
    "#YoutubeViews           \n",
    "type(df1['YoutubeViews'].values[0])"
   ]
  },
  {
   "cell_type": "code",
   "execution_count": 30,
   "metadata": {},
   "outputs": [
    {
     "data": {
      "text/plain": [
       "array([ 8576361,  1087320,   572336,    42626,  3113427,  1076591,\n",
       "        3905050,  2435283,  2333067,     4354,  2397647,  1077723,\n",
       "        4518748,   235767,  6336058,    28391,  7641333,   989096,\n",
       "        6144142,  2343109,   839270,  4687259,  3503887,  7048104,\n",
       "        5192338,  1829417,  6395202,  4042091, 13798789,   764725,\n",
       "        4823892,  2249055,  4005695,  1888754,  3043012,  1551786,\n",
       "        6841635,  6604595,  1041892,  6280868,  1176596,   868743,\n",
       "        5454349, 18986221,  1200152,  2375050,   569711,  1741424,\n",
       "         591838,   492344,  3998331], dtype=int64)"
      ]
     },
     "execution_count": 30,
     "metadata": {},
     "output_type": "execute_result"
    }
   ],
   "source": [
    "df1['YoutubeViews'].unique()"
   ]
  },
  {
   "cell_type": "markdown",
   "metadata": {},
   "source": [
    "No issues found with YoutubeViews column"
   ]
  },
  {
   "cell_type": "markdown",
   "metadata": {},
   "source": [
    "# Issue No.11: YoutubeLikes has float format but likes can be only integer"
   ]
  },
  {
   "cell_type": "code",
   "execution_count": 31,
   "metadata": {},
   "outputs": [
    {
     "data": {
      "text/plain": [
       "numpy.float64"
      ]
     },
     "execution_count": 31,
     "metadata": {},
     "output_type": "execute_result"
    }
   ],
   "source": [
    "#YoutubeLikes \n",
    "type(df1['YoutubeLikes'].values[0])"
   ]
  },
  {
   "cell_type": "markdown",
   "metadata": {},
   "source": [
    "Convert into integer , likes can not be in decimals"
   ]
  },
  {
   "cell_type": "code",
   "execution_count": 32,
   "metadata": {},
   "outputs": [],
   "source": [
    "#Converting Float to integer. It will help in data computation as float takes more bytes to store data. \n",
    "df1['YoutubeLikes'] = pd.to_numeric(df1['YoutubeLikes'], downcast='integer')"
   ]
  },
  {
   "cell_type": "code",
   "execution_count": 33,
   "metadata": {},
   "outputs": [
    {
     "data": {
      "text/plain": [
       "numpy.intc"
      ]
     },
     "execution_count": 33,
     "metadata": {},
     "output_type": "execute_result"
    }
   ],
   "source": [
    "type(df1['YoutubeLikes'].values[0])"
   ]
  },
  {
   "cell_type": "markdown",
   "metadata": {},
   "source": [
    "# Issue No. 12:YoutubeDislikes has float format but YoutubeDislikes can be only integer"
   ]
  },
  {
   "cell_type": "code",
   "execution_count": 34,
   "metadata": {},
   "outputs": [
    {
     "data": {
      "text/plain": [
       "numpy.float64"
      ]
     },
     "execution_count": 34,
     "metadata": {},
     "output_type": "execute_result"
    }
   ],
   "source": [
    "#YoutubeDislikes \n",
    "type(df1['YoutubeDislikes'].values[0])"
   ]
  },
  {
   "cell_type": "code",
   "execution_count": 35,
   "metadata": {},
   "outputs": [],
   "source": [
    "#Converting Float to integer. It will help in data computation as float takes more bytes to store data.\n",
    "df1['YoutubeDislikes'] = pd.to_numeric(df1['YoutubeDislikes'], downcast='integer')"
   ]
  },
  {
   "cell_type": "code",
   "execution_count": 36,
   "metadata": {},
   "outputs": [
    {
     "data": {
      "text/plain": [
       "numpy.int16"
      ]
     },
     "execution_count": 36,
     "metadata": {},
     "output_type": "execute_result"
    }
   ],
   "source": [
    "type(df1['YoutubeDislikes'].values[0])"
   ]
  },
  {
   "cell_type": "code",
   "execution_count": 37,
   "metadata": {},
   "outputs": [
    {
     "data": {
      "text/plain": [
       "array([ 29149,   1266,    640,    105,   5736,   1890,   9688,   4973,\n",
       "         3027,      2,   3773,   1011,  14652,    356,  23315,     22,\n",
       "        14755,   1781,  15759,   3519,   1637,  14824,   9802,  26033,\n",
       "         8048,   6816,  47854,  11397,  20934,   1471,   6024,   2626,\n",
       "        10003,   6198,  10071,   2372,  16179,  16743,   2255,   1226,\n",
       "         3187,  14586, 111341,   1730,   4913,   1359,   3205,    378,\n",
       "         2082,   2804], dtype=int64)"
      ]
     },
     "execution_count": 37,
     "metadata": {},
     "output_type": "execute_result"
    }
   ],
   "source": [
    "#YoutubeLikeDislikes    \n",
    "df1['YoutubeLikeDislikes'].unique()"
   ]
  },
  {
   "cell_type": "markdown",
   "metadata": {},
   "source": [
    "No issues found with YoutubeLikeDislikes feature"
   ]
  },
  {
   "cell_type": "markdown",
   "metadata": {},
   "source": [
    "# Lets clean second dataset (df2) before Concatinating with them first dataset (df1)"
   ]
  },
  {
   "cell_type": "code",
   "execution_count": 38,
   "metadata": {},
   "outputs": [
    {
     "data": {
      "text/html": [
       "<div>\n",
       "<style scoped>\n",
       "    .dataframe tbody tr th:only-of-type {\n",
       "        vertical-align: middle;\n",
       "    }\n",
       "\n",
       "    .dataframe tbody tr th {\n",
       "        vertical-align: top;\n",
       "    }\n",
       "\n",
       "    .dataframe thead th {\n",
       "        text-align: right;\n",
       "    }\n",
       "</style>\n",
       "<table border=\"1\" class=\"dataframe\">\n",
       "  <thead>\n",
       "    <tr style=\"text-align: right;\">\n",
       "      <th></th>\n",
       "      <th>Movie_ID</th>\n",
       "      <th>Release_Date</th>\n",
       "      <th>Movie_Name</th>\n",
       "      <th>Release_Time</th>\n",
       "      <th>Genre</th>\n",
       "      <th>BudgetCr</th>\n",
       "      <th>BoxOfficeCollectionCr</th>\n",
       "      <th>Youtube_Views</th>\n",
       "      <th>Youtube_Likes</th>\n",
       "      <th>Youtube_Dislikes</th>\n",
       "    </tr>\n",
       "  </thead>\n",
       "  <tbody>\n",
       "    <tr>\n",
       "      <td>0</td>\n",
       "      <td>51</td>\n",
       "      <td>4-Jul-14</td>\n",
       "      <td>Lekar Hum Deewana Dil</td>\n",
       "      <td>N</td>\n",
       "      <td>Romance</td>\n",
       "      <td>16</td>\n",
       "      <td>2.50</td>\n",
       "      <td>3998331</td>\n",
       "      <td>2307</td>\n",
       "      <td>497</td>\n",
       "    </tr>\n",
       "    <tr>\n",
       "      <td>1</td>\n",
       "      <td>52</td>\n",
       "      <td>22-Mar-13</td>\n",
       "      <td>Aatma</td>\n",
       "      <td>N</td>\n",
       "      <td>Thriller</td>\n",
       "      <td>8</td>\n",
       "      <td>8.78</td>\n",
       "      <td>841891</td>\n",
       "      <td>997</td>\n",
       "      <td>306</td>\n",
       "    </tr>\n",
       "    <tr>\n",
       "      <td>2</td>\n",
       "      <td>53</td>\n",
       "      <td>4-Apr-14</td>\n",
       "      <td>Main Tera Hero</td>\n",
       "      <td>LW</td>\n",
       "      <td>Comedy</td>\n",
       "      <td>40</td>\n",
       "      <td>55.00</td>\n",
       "      <td>4903941</td>\n",
       "      <td>12657</td>\n",
       "      <td>2139</td>\n",
       "    </tr>\n",
       "    <tr>\n",
       "      <td>3</td>\n",
       "      <td>54</td>\n",
       "      <td>22-Mar-13</td>\n",
       "      <td>Sona Spa</td>\n",
       "      <td>N</td>\n",
       "      <td>Thriller</td>\n",
       "      <td>10</td>\n",
       "      <td>0.24</td>\n",
       "      <td>79430</td>\n",
       "      <td>61</td>\n",
       "      <td>112</td>\n",
       "    </tr>\n",
       "    <tr>\n",
       "      <td>4</td>\n",
       "      <td>55</td>\n",
       "      <td>29-Mar-13</td>\n",
       "      <td>Himmatwala</td>\n",
       "      <td>N</td>\n",
       "      <td>Action</td>\n",
       "      <td>50</td>\n",
       "      <td>100.00</td>\n",
       "      <td>2501277</td>\n",
       "      <td>1</td>\n",
       "      <td>1</td>\n",
       "    </tr>\n",
       "  </tbody>\n",
       "</table>\n",
       "</div>"
      ],
      "text/plain": [
       "   Movie_ID Release_Date             Movie_Name Release_Time     Genre  \\\n",
       "0        51     4-Jul-14  Lekar Hum Deewana Dil            N   Romance   \n",
       "1        52    22-Mar-13                  Aatma            N  Thriller   \n",
       "2        53     4-Apr-14         Main Tera Hero           LW    Comedy   \n",
       "3        54    22-Mar-13               Sona Spa            N  Thriller   \n",
       "4        55    29-Mar-13             Himmatwala            N    Action   \n",
       "\n",
       "   BudgetCr  BoxOfficeCollectionCr  Youtube_Views  Youtube_Likes  \\\n",
       "0        16                   2.50        3998331           2307   \n",
       "1         8                   8.78         841891            997   \n",
       "2        40                  55.00        4903941          12657   \n",
       "3        10                   0.24          79430             61   \n",
       "4        50                 100.00        2501277              1   \n",
       "\n",
       "   Youtube_Dislikes  \n",
       "0               497  \n",
       "1               306  \n",
       "2              2139  \n",
       "3               112  \n",
       "4                 1  "
      ]
     },
     "execution_count": 38,
     "metadata": {},
     "output_type": "execute_result"
    }
   ],
   "source": [
    "df2.head()"
   ]
  },
  {
   "cell_type": "code",
   "execution_count": 39,
   "metadata": {},
   "outputs": [],
   "source": [
    "#Handling Release Date\n",
    "#Get the list of invalid entries\n",
    "import datetime\n",
    "mask = pd.to_datetime(df2['Release_Date'], format='%d-%b-%y', errors='coerce').notna()\n",
    "for index, value in mask.items():\n",
    "    if (not value):\n",
    "        print (\"Index : \", {index}, df2['Release_Date'].values[index])"
   ]
  },
  {
   "cell_type": "markdown",
   "metadata": {},
   "source": [
    "All dates are correct in dataset 2"
   ]
  },
  {
   "cell_type": "code",
   "execution_count": 40,
   "metadata": {},
   "outputs": [],
   "source": [
    "#Convert object datatype into date format\n",
    "df2['Release_Date'] = pd.to_datetime(df2['Release_Date'], format='%d-%b-%y')"
   ]
  },
  {
   "cell_type": "code",
   "execution_count": 41,
   "metadata": {},
   "outputs": [
    {
     "name": "stdout",
     "output_type": "stream",
     "text": [
      "<class 'pandas.core.frame.DataFrame'>\n",
      "RangeIndex: 99 entries, 0 to 98\n",
      "Data columns (total 10 columns):\n",
      "Movie_ID                 99 non-null int64\n",
      "Release_Date             99 non-null datetime64[ns]\n",
      "Movie_Name               99 non-null object\n",
      "Release_Time             99 non-null object\n",
      "Genre                    99 non-null object\n",
      "BudgetCr                 99 non-null int64\n",
      "BoxOfficeCollectionCr    99 non-null float64\n",
      "Youtube_Views            99 non-null int64\n",
      "Youtube_Likes            99 non-null int64\n",
      "Youtube_Dislikes         99 non-null int64\n",
      "dtypes: datetime64[ns](1), float64(1), int64(5), object(3)\n",
      "memory usage: 7.9+ KB\n"
     ]
    }
   ],
   "source": [
    "df2.info()"
   ]
  },
  {
   "cell_type": "markdown",
   "metadata": {},
   "source": [
    "# Issue No. 13:Release_date format is different in the two given dataset, converting into common format"
   ]
  },
  {
   "cell_type": "code",
   "execution_count": 42,
   "metadata": {},
   "outputs": [],
   "source": [
    "#Convert df2['Release_date'] to the format in the first dataset\n",
    "df2['Release_Date'] = df2['Release_Date'].dt.strftime('%b-%d-%Y')"
   ]
  },
  {
   "cell_type": "code",
   "execution_count": 43,
   "metadata": {},
   "outputs": [
    {
     "name": "stdout",
     "output_type": "stream",
     "text": [
      "['Jul-04-2014' 'Mar-22-2013' 'Apr-04-2014' 'Mar-29-2013' 'May-09-2014'\n",
      " 'Aug-22-2014' 'Apr-05-2013' 'Sep-05-2014' 'Apr-12-2013' 'Apr-19-2013'\n",
      " 'Jan-17-2014' 'Apr-26-2013' 'Mar-28-2014' 'Jan-31-2014' 'May-02-2014'\n",
      " 'May-03-2013' 'Mar-07-2014' 'Mar-21-2014' 'May-10-2013' 'Aug-29-2014'\n",
      " 'Apr-25-2014' 'Feb-28-2014' 'May-17-2013' 'Jan-03-2014' 'Aug-15-2014'\n",
      " 'Nov-07-2014' 'May-24-2013' 'Nov-28-2014' 'May-31-2013' 'Jan-10-2014'\n",
      " 'Jun-07-2013' 'Jun-14-2013' 'Dec-19-2014' 'Jun-21-2013' 'Dec-05-2014'\n",
      " 'Oct-02-2014' 'Sep-12-2014' 'Jun-28-2013' 'Oct-02-2013' 'Jul-05-2013'\n",
      " 'Jul-18-2014' 'May-16-2014' 'Jul-12-2013' 'Jul-19-2013' 'Mar-14-2014'\n",
      " 'Feb-21-2014' 'Jul-26-2013' 'Feb-07-2014' 'Apr-11-2014' 'Aug-09-2013'\n",
      " 'Aug-15-2013' 'Aug-23-2013' 'Aug-30-2013' 'Nov-01-2013' 'Nov-08-2013'\n",
      " 'Nov-15-2013' 'Nov-22-2013' 'Nov-29-2013' 'Oct-11-2013' 'Oct-16-2013'\n",
      " 'Oct-18-2013' 'Oct-25-2013' 'Sep-06-2013' 'Sep-13-2013' 'Sep-20-2013'\n",
      " 'Jan-09-2015' 'Jan-16-2015' 'Jan-23-2015' 'Jan-30-2015' 'Feb-06-2015'\n",
      " 'Feb-13-2015' 'Feb-20-2015' 'Feb-27-2015' 'Mar-13-2015' 'Mar-20-2015'\n",
      " 'May-23-2014']\n"
     ]
    }
   ],
   "source": [
    "#Validate the new format of Release_Date in Dataset2\n",
    "print (df2['Release_Date'].unique())"
   ]
  },
  {
   "cell_type": "code",
   "execution_count": 44,
   "metadata": {},
   "outputs": [
    {
     "data": {
      "text/plain": [
       "False"
      ]
     },
     "execution_count": 44,
     "metadata": {},
     "output_type": "execute_result"
    }
   ],
   "source": [
    "#Check for duplicate Movie_Names if any \n",
    "df2['Movie_Name'].duplicated().all()"
   ]
  },
  {
   "cell_type": "code",
   "execution_count": 45,
   "metadata": {},
   "outputs": [
    {
     "data": {
      "text/plain": [
       "array(['N', 'LW', 'HS', 'FS'], dtype=object)"
      ]
     },
     "execution_count": 45,
     "metadata": {},
     "output_type": "execute_result"
    }
   ],
   "source": [
    "#Release_Time\n",
    "df2['Release_Time'].unique()"
   ]
  },
  {
   "cell_type": "markdown",
   "metadata": {},
   "source": [
    "# Issue No. 14: Release_Time format is different in the two given dataset, converting into common format"
   ]
  },
  {
   "cell_type": "code",
   "execution_count": 46,
   "metadata": {},
   "outputs": [
    {
     "name": "stdout",
     "output_type": "stream",
     "text": [
      "[4 3 2 1]\n"
     ]
    }
   ],
   "source": [
    "#Need to convert into same units as in dstaset1 for merging two datasets\n",
    "\n",
    "#In Dataset-1, given format is (1,2,3,4)\n",
    "#Long Weekend (3), Festive Season (1), Holiday Season (2), and Normal (4)\n",
    "\n",
    "#In Dataset-2, given format is (FS,HS,LW,N)\n",
    "#FS = 1\n",
    "#HS =2\n",
    "#LW = 3\n",
    "#Normal = 4\n",
    "\n",
    "#Converting dataset two into dataset1 format\n",
    "df2['Release_Time'] = df2['Release_Time'].replace(to_replace ='FS', value = '1', regex = True) \n",
    "df2['Release_Time'] = df2['Release_Time'].replace(to_replace ='HS', value = '2', regex = True) \n",
    "df2['Release_Time'] = df2['Release_Time'].replace(to_replace ='LW', value = '3', regex = True) \n",
    "df2['Release_Time'] = df2['Release_Time'].replace(to_replace ='N', value = '4', regex = True) \n",
    "df2['Release_Time'] = pd.to_numeric(df2['Release_Time'], downcast='integer')\n",
    "\n",
    "#Validate after converting the dataset\n",
    "print (df2['Release_Time'].unique())"
   ]
  },
  {
   "cell_type": "code",
   "execution_count": 47,
   "metadata": {},
   "outputs": [
    {
     "data": {
      "text/plain": [
       "array(['Romance', 'Thriller', 'Comedy', 'Action', ' Drama '], dtype=object)"
      ]
     },
     "execution_count": 47,
     "metadata": {},
     "output_type": "execute_result"
    }
   ],
   "source": [
    "#Movie_Name\n",
    "df2['Genre'].unique()"
   ]
  },
  {
   "cell_type": "markdown",
   "metadata": {},
   "source": [
    "No duplicate Genre found but some additional spaces at ;Drama' Genre. Lets handle that as well next."
   ]
  },
  {
   "cell_type": "markdown",
   "metadata": {},
   "source": [
    "# Issue No. 15:Genre has additional blank spaces for ' Drama', removing additional spaces"
   ]
  },
  {
   "cell_type": "code",
   "execution_count": 48,
   "metadata": {},
   "outputs": [],
   "source": [
    "#Locate all wrong entries and replace it without spaces.\n",
    "df2.loc[df2['Genre'] == ' Drama ', 'Genre'] = 'Drama'"
   ]
  },
  {
   "cell_type": "code",
   "execution_count": 49,
   "metadata": {},
   "outputs": [
    {
     "data": {
      "text/plain": [
       "array(['Romance', 'Thriller', 'Comedy', 'Action', 'Drama'], dtype=object)"
      ]
     },
     "execution_count": 49,
     "metadata": {},
     "output_type": "execute_result"
    }
   ],
   "source": [
    "#Lets validate the fix\n",
    "df2['Genre'].unique()"
   ]
  },
  {
   "cell_type": "code",
   "execution_count": 50,
   "metadata": {},
   "outputs": [
    {
     "data": {
      "text/plain": [
       "array([ 16,   8,  40,  10,  50,   3,  15,  20,   9,   2,  22,  24,   5,\n",
       "        12,  21,  45,  25,   6,  18,  35,  90,  70,  19,  26,  85, 140,\n",
       "        30,  27,  31,   4,  29,  75, 100, 115,  14,  11,  60,  23,  13,\n",
       "        32, 150], dtype=int64)"
      ]
     },
     "execution_count": 50,
     "metadata": {},
     "output_type": "execute_result"
    }
   ],
   "source": [
    "#BudgetCr\n",
    "df2['BudgetCr'].unique()"
   ]
  },
  {
   "cell_type": "markdown",
   "metadata": {},
   "source": [
    "# Issue No. 16: BudgetCr is in int, converting into float datatype for furture analysis. "
   ]
  },
  {
   "cell_type": "code",
   "execution_count": 51,
   "metadata": {},
   "outputs": [],
   "source": [
    "#Convert into float to do all numerical calculation \n",
    "df2['BudgetCr'] = pd.to_numeric(df2['BudgetCr'], downcast=\"float\")"
   ]
  },
  {
   "cell_type": "code",
   "execution_count": 52,
   "metadata": {},
   "outputs": [
    {
     "data": {
      "text/plain": [
       "0    16.0\n",
       "1     8.0\n",
       "2    40.0\n",
       "3    10.0\n",
       "4    50.0\n",
       "Name: BudgetCr, dtype: float32"
      ]
     },
     "execution_count": 52,
     "metadata": {},
     "output_type": "execute_result"
    }
   ],
   "source": [
    "#Validate the fix\n",
    "df2['BudgetCr'].head()"
   ]
  },
  {
   "cell_type": "code",
   "execution_count": 53,
   "metadata": {},
   "outputs": [
    {
     "data": {
      "text/plain": [
       "0      2.50\n",
       "1      8.78\n",
       "2     55.00\n",
       "3      0.24\n",
       "4    100.00\n",
       "Name: BoxOfficeCollectionCr, dtype: float64"
      ]
     },
     "execution_count": 53,
     "metadata": {},
     "output_type": "execute_result"
    }
   ],
   "source": [
    "#BoxOfficeCollectionCr\n",
    "df2['BoxOfficeCollectionCr'].head()"
   ]
  },
  {
   "cell_type": "markdown",
   "metadata": {},
   "source": [
    "Looks fine , No change required"
   ]
  },
  {
   "cell_type": "code",
   "execution_count": 54,
   "metadata": {},
   "outputs": [
    {
     "data": {
      "text/plain": [
       "array([ 3998331,   841891,  4903941,    79430,  2501277,   370106,\n",
       "        4376650,   166066,  6086811,  1208841,  3557585,  3162465,\n",
       "        1837437,   808439,  2926673,  1511318,  1016858,  1537063,\n",
       "         769365,  2981381,  1528538,  5416213,  4321162,  4050407,\n",
       "        1744602,  4590539,  1901503,  1001670,  8287587,  3395361,\n",
       "         630506,  2763615,  5123217,  3331082,  2775792,  1257416,\n",
       "         603710,   227912,  6698987, 13270623,  5470632, 13279636,\n",
       "       15889811,  1131573,  2876498,  2248046,  5319606,  2581449,\n",
       "         838943,  3707889,  1754266,  2635390,  2360968,   371133,\n",
       "        2240961,  3788488,  2850376,  1939868,  1679872,    68511,\n",
       "        2543707,   462722,   268289,   613448,  3049275,  1882346,\n",
       "        3077135,  1709945,  1422568, 23171067,  1719399,   110315,\n",
       "        1718619,  3799253,  4015674,    40450,    23186,  6464704,\n",
       "        1148516,   335807,  2539431,     5142,  1795640,   577569,\n",
       "        5176897,  1064854,  6132407,  8788913,  7968156,  2368404,\n",
       "        3094001,  2105508,  7687797,  4550051,  3250917,  5592977,\n",
       "        2316047,  4674795,  4740727], dtype=int64)"
      ]
     },
     "execution_count": 54,
     "metadata": {},
     "output_type": "execute_result"
    }
   ],
   "source": [
    "#Youtube_Views\n",
    "df2['Youtube_Views'].unique()"
   ]
  },
  {
   "cell_type": "markdown",
   "metadata": {},
   "source": [
    "No Issues found"
   ]
  },
  {
   "cell_type": "code",
   "execution_count": 55,
   "metadata": {},
   "outputs": [
    {
     "data": {
      "text/plain": [
       "array([ 2307,   997, 12657,    61,     1,   991, 14408,  2897, 26560,\n",
       "        1442,  3927,  7519,  3296,   328,  4944,  3004,  1081,   822,\n",
       "         784,  5339,  2766,  6807, 10126,  8197,  3013,  9021,  3394,\n",
       "        2110, 20011,  8395,   463,  6907, 13826,  4853,  5457,   758,\n",
       "        1082,   222,  6750, 43767, 12413, 19240, 61805,   913,  5844,\n",
       "        5108, 10253,  4416,  1116,  3512,  1674,  4622,  2807,   532,\n",
       "         842,  4111,  4764,  1804,   255,    76,  6390,   513,   139,\n",
       "         288, 10759,  7954,  9200,  2974,  2736, 72070,  3656,    89,\n",
       "        1606,  8559,  8084,    33,     9, 22977,  3155,   574,  5634,\n",
       "        3015,  1640, 10672,  4054, 11241, 18907, 29246,  8619,  4599,\n",
       "        5599, 18974, 10602,  8185, 15464,  4289,  3706, 13466],\n",
       "      dtype=int64)"
      ]
     },
     "execution_count": 55,
     "metadata": {},
     "output_type": "execute_result"
    }
   ],
   "source": [
    "#Youtube_Likes\n",
    "df2['Youtube_Likes'].unique()"
   ]
  },
  {
   "cell_type": "markdown",
   "metadata": {},
   "source": [
    "No Issues found"
   ]
  },
  {
   "cell_type": "code",
   "execution_count": 56,
   "metadata": {},
   "outputs": [
    {
     "data": {
      "text/plain": [
       "array([  497,   306,  2139,   112,     1,    35,  1035,   283,  1647,\n",
       "         342,  1364,   562,   613,    95,   628,   278,   212,   229,\n",
       "         126,   443,   328,  2717,   964,  1155,   392,  1465,   754,\n",
       "         268,  2899,  1204,    83,   489,  1640,   767,   681,   923,\n",
       "         177,    39,  2234,  5693,  1018,  3859,  6283,   255,  1537,\n",
       "         614,  8165,   819,   153,  1292,   420,   456,   595,   180,\n",
       "         348,   687,  1068,   224,    51,    16,   975,    77,    40,\n",
       "         188,   657,  1593,  2821,   594,   394, 11888,   548,    26,\n",
       "        1083,  1871,  2129,     7,     4,  3396,   396,   129,   922,\n",
       "         721,   156,  1392,   285,  1729,  2940,  2426,   539,   997,\n",
       "         677,  3229,   893,   615,  1513,   807,   762,  2649],\n",
       "      dtype=int64)"
      ]
     },
     "execution_count": 56,
     "metadata": {},
     "output_type": "execute_result"
    }
   ],
   "source": [
    "#Youtube_Dislikes\n",
    "df2['Youtube_Dislikes'].unique()"
   ]
  },
  {
   "cell_type": "markdown",
   "metadata": {},
   "source": [
    "No Issues Found"
   ]
  },
  {
   "cell_type": "code",
   "execution_count": 57,
   "metadata": {},
   "outputs": [
    {
     "name": "stdout",
     "output_type": "stream",
     "text": [
      "<class 'pandas.core.frame.DataFrame'>\n",
      "RangeIndex: 99 entries, 0 to 98\n",
      "Data columns (total 10 columns):\n",
      "Movie_ID                 99 non-null int64\n",
      "Release_Date             99 non-null object\n",
      "Movie_Name               99 non-null object\n",
      "Release_Time             99 non-null int8\n",
      "Genre                    99 non-null object\n",
      "BudgetCr                 99 non-null float32\n",
      "BoxOfficeCollectionCr    99 non-null float64\n",
      "Youtube_Views            99 non-null int64\n",
      "Youtube_Likes            99 non-null int64\n",
      "Youtube_Dislikes         99 non-null int64\n",
      "dtypes: float32(1), float64(1), int64(4), int8(1), object(3)\n",
      "memory usage: 6.8+ KB\n"
     ]
    }
   ],
   "source": [
    "#Lets see the dataset 2 information after all clean-up activities\n",
    "df2.info()"
   ]
  },
  {
   "cell_type": "code",
   "execution_count": 58,
   "metadata": {},
   "outputs": [
    {
     "data": {
      "text/plain": [
       "Index(['No', 'RelDate', 'MovieName', 'ReleaseTime', 'Genre', 'Budget',\n",
       "       'BoxOfficeCollection', 'YoutubeViews', 'YoutubeLikes',\n",
       "       'YoutubeDislikes', 'YoutubeLikeDislikes'],\n",
       "      dtype='object')"
      ]
     },
     "execution_count": 58,
     "metadata": {},
     "output_type": "execute_result"
    }
   ],
   "source": [
    "#Lets see the column names before concatinating both datasets. Columns with dataset 1\n",
    "df1.columns"
   ]
  },
  {
   "cell_type": "code",
   "execution_count": 59,
   "metadata": {},
   "outputs": [
    {
     "data": {
      "text/plain": [
       "Index(['Movie_ID', 'Release_Date', 'Movie_Name', 'Release_Time', 'Genre',\n",
       "       'BudgetCr', 'BoxOfficeCollectionCr', 'Youtube_Views', 'Youtube_Likes',\n",
       "       'Youtube_Dislikes'],\n",
       "      dtype='object')"
      ]
     },
     "execution_count": 59,
     "metadata": {},
     "output_type": "execute_result"
    }
   ],
   "source": [
    "#Lets see the column names before concatinating both datasets. Columns with dataset 2\n",
    "df2.columns"
   ]
  },
  {
   "cell_type": "markdown",
   "metadata": {},
   "source": [
    "# Issue No. 17: Both dataset has different columns, renaming them for merge activity"
   ]
  },
  {
   "cell_type": "code",
   "execution_count": 60,
   "metadata": {},
   "outputs": [],
   "source": [
    "#Changing df1 coulmn names like df2 as its more readable\n",
    "df1.rename(columns={\"No\": \"Movie_ID\"},inplace = True)\n",
    "df1.rename(columns={\"RelDate\": \"Release_Date\"},inplace = True)\n",
    "df1.rename(columns={\"MovieName\": \"Movie_Name\"},inplace = True)\n",
    "df1.rename(columns={\"ReleaseTime\": \"Release_Time\"},inplace = True)\n",
    "df1.rename(columns={\"Budget\": \"BudgetCr\"},inplace = True)\n",
    "df1.rename(columns={\"BoxOfficeCollection\": \"BoxOfficeCollectionCr\"},inplace = True)\n",
    "df1.rename(columns={\"YoutubeViews\": \"Youtube_Views\"},inplace = True)\n",
    "df1.rename(columns={\"YoutubeLikes\": \"Youtube_Likes\"},inplace = True)\n",
    "df1.rename(columns={\"YoutubeDislikes\": \"Youtube_Dislikes\"},inplace = True)\n",
    "df1.rename(columns={\"YoutubeLikeDislikes\": \"Youtube_LikeDislikes\"},inplace = True)"
   ]
  },
  {
   "cell_type": "code",
   "execution_count": 61,
   "metadata": {},
   "outputs": [
    {
     "name": "stdout",
     "output_type": "stream",
     "text": [
      "Dataset 1:  Index(['Movie_ID', 'Release_Date', 'Movie_Name', 'Release_Time', 'Genre',\n",
      "       'BudgetCr', 'BoxOfficeCollectionCr', 'Youtube_Views', 'Youtube_Likes',\n",
      "       'Youtube_Dislikes', 'Youtube_LikeDislikes'],\n",
      "      dtype='object')\n",
      "Dataset 2:  Index(['Movie_ID', 'Release_Date', 'Movie_Name', 'Release_Time', 'Genre',\n",
      "       'BudgetCr', 'BoxOfficeCollectionCr', 'Youtube_Views', 'Youtube_Likes',\n",
      "       'Youtube_Dislikes'],\n",
      "      dtype='object')\n"
     ]
    }
   ],
   "source": [
    "#Validate Column names after fix\n",
    "print(\"Dataset 1: \",df1.columns)\n",
    "print(\"Dataset 2: \",df2.columns)"
   ]
  },
  {
   "cell_type": "code",
   "execution_count": 62,
   "metadata": {},
   "outputs": [],
   "source": [
    "#Concat both the dataframe into one dataset \n",
    "dataset = pd.concat([df1, df2],ignore_index=True,sort=False)"
   ]
  },
  {
   "cell_type": "code",
   "execution_count": 63,
   "metadata": {},
   "outputs": [
    {
     "data": {
      "text/html": [
       "<div>\n",
       "<style scoped>\n",
       "    .dataframe tbody tr th:only-of-type {\n",
       "        vertical-align: middle;\n",
       "    }\n",
       "\n",
       "    .dataframe tbody tr th {\n",
       "        vertical-align: top;\n",
       "    }\n",
       "\n",
       "    .dataframe thead th {\n",
       "        text-align: right;\n",
       "    }\n",
       "</style>\n",
       "<table border=\"1\" class=\"dataframe\">\n",
       "  <thead>\n",
       "    <tr style=\"text-align: right;\">\n",
       "      <th></th>\n",
       "      <th>Movie_ID</th>\n",
       "      <th>Release_Date</th>\n",
       "      <th>Movie_Name</th>\n",
       "      <th>Release_Time</th>\n",
       "      <th>Genre</th>\n",
       "      <th>BudgetCr</th>\n",
       "      <th>BoxOfficeCollectionCr</th>\n",
       "      <th>Youtube_Views</th>\n",
       "      <th>Youtube_Likes</th>\n",
       "      <th>Youtube_Dislikes</th>\n",
       "      <th>Youtube_LikeDislikes</th>\n",
       "    </tr>\n",
       "  </thead>\n",
       "  <tbody>\n",
       "    <tr>\n",
       "      <td>0</td>\n",
       "      <td>1</td>\n",
       "      <td>2014-04-18 00:00:00</td>\n",
       "      <td>2 States</td>\n",
       "      <td>3</td>\n",
       "      <td>Romance</td>\n",
       "      <td>36.0</td>\n",
       "      <td>104.0</td>\n",
       "      <td>8576361</td>\n",
       "      <td>26622</td>\n",
       "      <td>2527</td>\n",
       "      <td>29149.0</td>\n",
       "    </tr>\n",
       "    <tr>\n",
       "      <td>1</td>\n",
       "      <td>2</td>\n",
       "      <td>2013-01-04 00:00:00</td>\n",
       "      <td>Table No. 21</td>\n",
       "      <td>4</td>\n",
       "      <td>Thriller</td>\n",
       "      <td>10.0</td>\n",
       "      <td>12.0</td>\n",
       "      <td>1087320</td>\n",
       "      <td>1129</td>\n",
       "      <td>137</td>\n",
       "      <td>1266.0</td>\n",
       "    </tr>\n",
       "    <tr>\n",
       "      <td>2</td>\n",
       "      <td>3</td>\n",
       "      <td>2014-07-18 00:00:00</td>\n",
       "      <td>Amit Sahni Ki List</td>\n",
       "      <td>4</td>\n",
       "      <td>Comedy</td>\n",
       "      <td>10.0</td>\n",
       "      <td>4.0</td>\n",
       "      <td>572336</td>\n",
       "      <td>586</td>\n",
       "      <td>54</td>\n",
       "      <td>640.0</td>\n",
       "    </tr>\n",
       "    <tr>\n",
       "      <td>3</td>\n",
       "      <td>4</td>\n",
       "      <td>2013-01-04 00:00:00</td>\n",
       "      <td>Rajdhani Express</td>\n",
       "      <td>4</td>\n",
       "      <td>Drama</td>\n",
       "      <td>7.0</td>\n",
       "      <td>383.0</td>\n",
       "      <td>42626</td>\n",
       "      <td>86</td>\n",
       "      <td>19</td>\n",
       "      <td>105.0</td>\n",
       "    </tr>\n",
       "    <tr>\n",
       "      <td>4</td>\n",
       "      <td>5</td>\n",
       "      <td>2014-07-04 00:00:00</td>\n",
       "      <td>Bobby Jasoos</td>\n",
       "      <td>4</td>\n",
       "      <td>Comedy</td>\n",
       "      <td>18.0</td>\n",
       "      <td>10.8</td>\n",
       "      <td>3113427</td>\n",
       "      <td>4512</td>\n",
       "      <td>1224</td>\n",
       "      <td>5736.0</td>\n",
       "    </tr>\n",
       "  </tbody>\n",
       "</table>\n",
       "</div>"
      ],
      "text/plain": [
       "   Movie_ID         Release_Date          Movie_Name  Release_Time     Genre  \\\n",
       "0         1  2014-04-18 00:00:00            2 States             3   Romance   \n",
       "1         2  2013-01-04 00:00:00        Table No. 21             4  Thriller   \n",
       "2         3  2014-07-18 00:00:00  Amit Sahni Ki List             4    Comedy   \n",
       "3         4  2013-01-04 00:00:00    Rajdhani Express             4     Drama   \n",
       "4         5  2014-07-04 00:00:00        Bobby Jasoos             4    Comedy   \n",
       "\n",
       "   BudgetCr  BoxOfficeCollectionCr  Youtube_Views  Youtube_Likes  \\\n",
       "0      36.0                  104.0        8576361          26622   \n",
       "1      10.0                   12.0        1087320           1129   \n",
       "2      10.0                    4.0         572336            586   \n",
       "3       7.0                  383.0          42626             86   \n",
       "4      18.0                   10.8        3113427           4512   \n",
       "\n",
       "   Youtube_Dislikes  Youtube_LikeDislikes  \n",
       "0              2527               29149.0  \n",
       "1               137                1266.0  \n",
       "2                54                 640.0  \n",
       "3                19                 105.0  \n",
       "4              1224                5736.0  "
      ]
     },
     "execution_count": 63,
     "metadata": {},
     "output_type": "execute_result"
    }
   ],
   "source": [
    "#List first 5 rows of combined dataset\n",
    "dataset.head()"
   ]
  },
  {
   "cell_type": "code",
   "execution_count": 64,
   "metadata": {},
   "outputs": [
    {
     "data": {
      "text/html": [
       "<div>\n",
       "<style scoped>\n",
       "    .dataframe tbody tr th:only-of-type {\n",
       "        vertical-align: middle;\n",
       "    }\n",
       "\n",
       "    .dataframe tbody tr th {\n",
       "        vertical-align: top;\n",
       "    }\n",
       "\n",
       "    .dataframe thead th {\n",
       "        text-align: right;\n",
       "    }\n",
       "</style>\n",
       "<table border=\"1\" class=\"dataframe\">\n",
       "  <thead>\n",
       "    <tr style=\"text-align: right;\">\n",
       "      <th></th>\n",
       "      <th>Movie_ID</th>\n",
       "      <th>Release_Date</th>\n",
       "      <th>Movie_Name</th>\n",
       "      <th>Release_Time</th>\n",
       "      <th>Genre</th>\n",
       "      <th>BudgetCr</th>\n",
       "      <th>BoxOfficeCollectionCr</th>\n",
       "      <th>Youtube_Views</th>\n",
       "      <th>Youtube_Likes</th>\n",
       "      <th>Youtube_Dislikes</th>\n",
       "      <th>Youtube_LikeDislikes</th>\n",
       "    </tr>\n",
       "  </thead>\n",
       "  <tbody>\n",
       "    <tr>\n",
       "      <td>145</td>\n",
       "      <td>145</td>\n",
       "      <td>Feb-27-2015</td>\n",
       "      <td>Dum Laga Ke Haisha</td>\n",
       "      <td>4</td>\n",
       "      <td>Comedy</td>\n",
       "      <td>15.0</td>\n",
       "      <td>30.00</td>\n",
       "      <td>3250917</td>\n",
       "      <td>8185</td>\n",
       "      <td>615</td>\n",
       "      <td>NaN</td>\n",
       "    </tr>\n",
       "    <tr>\n",
       "      <td>146</td>\n",
       "      <td>146</td>\n",
       "      <td>Mar-13-2015</td>\n",
       "      <td>NH10</td>\n",
       "      <td>4</td>\n",
       "      <td>Thriller</td>\n",
       "      <td>13.0</td>\n",
       "      <td>32.10</td>\n",
       "      <td>5592977</td>\n",
       "      <td>15464</td>\n",
       "      <td>1513</td>\n",
       "      <td>NaN</td>\n",
       "    </tr>\n",
       "    <tr>\n",
       "      <td>147</td>\n",
       "      <td>147</td>\n",
       "      <td>Mar-20-2015</td>\n",
       "      <td>Dilliwali Zaalim Girlfriend</td>\n",
       "      <td>4</td>\n",
       "      <td>Comedy</td>\n",
       "      <td>32.0</td>\n",
       "      <td>12.00</td>\n",
       "      <td>2316047</td>\n",
       "      <td>4289</td>\n",
       "      <td>807</td>\n",
       "      <td>NaN</td>\n",
       "    </tr>\n",
       "    <tr>\n",
       "      <td>148</td>\n",
       "      <td>148</td>\n",
       "      <td>Mar-20-2015</td>\n",
       "      <td>Hunterrr</td>\n",
       "      <td>4</td>\n",
       "      <td>Comedy</td>\n",
       "      <td>5.0</td>\n",
       "      <td>11.89</td>\n",
       "      <td>4674795</td>\n",
       "      <td>3706</td>\n",
       "      <td>762</td>\n",
       "      <td>NaN</td>\n",
       "    </tr>\n",
       "    <tr>\n",
       "      <td>149</td>\n",
       "      <td>149</td>\n",
       "      <td>May-23-2014</td>\n",
       "      <td>Kochadaiiyaan</td>\n",
       "      <td>2</td>\n",
       "      <td>Action</td>\n",
       "      <td>150.0</td>\n",
       "      <td>120.00</td>\n",
       "      <td>4740727</td>\n",
       "      <td>13466</td>\n",
       "      <td>2649</td>\n",
       "      <td>NaN</td>\n",
       "    </tr>\n",
       "  </tbody>\n",
       "</table>\n",
       "</div>"
      ],
      "text/plain": [
       "     Movie_ID Release_Date                   Movie_Name  Release_Time  \\\n",
       "145       145  Feb-27-2015           Dum Laga Ke Haisha             4   \n",
       "146       146  Mar-13-2015                         NH10             4   \n",
       "147       147  Mar-20-2015  Dilliwali Zaalim Girlfriend             4   \n",
       "148       148  Mar-20-2015                     Hunterrr             4   \n",
       "149       149  May-23-2014                Kochadaiiyaan             2   \n",
       "\n",
       "        Genre  BudgetCr  BoxOfficeCollectionCr  Youtube_Views  Youtube_Likes  \\\n",
       "145    Comedy      15.0                  30.00        3250917           8185   \n",
       "146  Thriller      13.0                  32.10        5592977          15464   \n",
       "147    Comedy      32.0                  12.00        2316047           4289   \n",
       "148    Comedy       5.0                  11.89        4674795           3706   \n",
       "149    Action     150.0                 120.00        4740727          13466   \n",
       "\n",
       "     Youtube_Dislikes  Youtube_LikeDislikes  \n",
       "145               615                   NaN  \n",
       "146              1513                   NaN  \n",
       "147               807                   NaN  \n",
       "148               762                   NaN  \n",
       "149              2649                   NaN  "
      ]
     },
     "execution_count": 64,
     "metadata": {},
     "output_type": "execute_result"
    }
   ],
   "source": [
    "#List last 5 rows of combined dataset\n",
    "dataset.tail()"
   ]
  },
  {
   "cell_type": "markdown",
   "metadata": {},
   "source": [
    "# Issue No. 18: Duplicate Movie Name after merging two datasets, keeping the first occurance"
   ]
  },
  {
   "cell_type": "code",
   "execution_count": 65,
   "metadata": {},
   "outputs": [
    {
     "name": "stdout",
     "output_type": "stream",
     "text": [
      "Total Movie Names :  150\n",
      "Total Unique Movie Names :  149\n"
     ]
    }
   ],
   "source": [
    "#Find the duplicates based on Movie Name\n",
    "print (\"Total Movie Names : \" , len(dataset['Movie_Name']))\n",
    "print (\"Total Unique Movie Names : \" , len(dataset['Movie_Name'].unique()))"
   ]
  },
  {
   "cell_type": "markdown",
   "metadata": {},
   "source": [
    "One duplicate found in the merged dataset. Lets try to fix it. "
   ]
  },
  {
   "cell_type": "code",
   "execution_count": 66,
   "metadata": {},
   "outputs": [
    {
     "name": "stdout",
     "output_type": "stream",
     "text": [
      "Duplicate Rows except first occurrence based on Movie Name \n",
      " Int64Index([51], dtype='int64')\n"
     ]
    }
   ],
   "source": [
    "# Identify the number of duplicates in combined dataset\n",
    "duplicateRowsDF = dataset[dataset.duplicated(['Movie_Name'])]\n",
    "print (\"Duplicate Rows except first occurrence based on Movie Name \\n\", duplicateRowsDF.index)"
   ]
  },
  {
   "cell_type": "code",
   "execution_count": 67,
   "metadata": {},
   "outputs": [],
   "source": [
    "#Drop the duplicates \n",
    "dataset.drop_duplicates(subset=\"Movie_Name\", keep=\"first\", inplace=True)"
   ]
  },
  {
   "cell_type": "code",
   "execution_count": 68,
   "metadata": {},
   "outputs": [
    {
     "name": "stdout",
     "output_type": "stream",
     "text": [
      "Duplicate Rows except first occurrence based on Movie Name \n",
      " Int64Index([], dtype='int64')\n"
     ]
    }
   ],
   "source": [
    "# Validate the duplicates again afer above fix\n",
    "duplicateRowsDF = dataset[dataset.duplicated(['Movie_Name'])]\n",
    "print (\"Duplicate Rows except first occurrence based on Movie Name \\n\", duplicateRowsDF.index)"
   ]
  },
  {
   "cell_type": "markdown",
   "metadata": {},
   "source": [
    "No duplicates after drop operation"
   ]
  },
  {
   "cell_type": "code",
   "execution_count": 69,
   "metadata": {},
   "outputs": [
    {
     "name": "stdout",
     "output_type": "stream",
     "text": [
      "<class 'pandas.core.frame.DataFrame'>\n",
      "Int64Index: 149 entries, 0 to 149\n",
      "Data columns (total 11 columns):\n",
      "Movie_ID                 149 non-null int64\n",
      "Release_Date             149 non-null object\n",
      "Movie_Name               149 non-null object\n",
      "Release_Time             149 non-null int64\n",
      "Genre                    149 non-null object\n",
      "BudgetCr                 149 non-null float32\n",
      "BoxOfficeCollectionCr    149 non-null float64\n",
      "Youtube_Views            149 non-null int64\n",
      "Youtube_Likes            149 non-null int64\n",
      "Youtube_Dislikes         149 non-null int64\n",
      "Youtube_LikeDislikes     51 non-null float64\n",
      "dtypes: float32(1), float64(2), int64(5), object(3)\n",
      "memory usage: 13.4+ KB\n"
     ]
    }
   ],
   "source": [
    "dataset.info()\n"
   ]
  },
  {
   "cell_type": "markdown",
   "metadata": {},
   "source": [
    "# Issue No. 19: Dropping derived column from two features likes & dislikes features, its just a sum of two features. And one of the dataset does not have 'Youtube_LikeDislikes' column. "
   ]
  },
  {
   "cell_type": "code",
   "execution_count": 70,
   "metadata": {},
   "outputs": [],
   "source": [
    "#Drop Coloumn name Youtube_LikeDislikes as its an addition of likes & dislikes features\n",
    "dataset.drop('Youtube_LikeDislikes', axis=1, inplace=True)"
   ]
  },
  {
   "cell_type": "code",
   "execution_count": 71,
   "metadata": {},
   "outputs": [
    {
     "name": "stdout",
     "output_type": "stream",
     "text": [
      "<class 'pandas.core.frame.DataFrame'>\n",
      "Int64Index: 149 entries, 0 to 149\n",
      "Data columns (total 10 columns):\n",
      "Movie_ID                 149 non-null int64\n",
      "Release_Date             149 non-null object\n",
      "Movie_Name               149 non-null object\n",
      "Release_Time             149 non-null int64\n",
      "Genre                    149 non-null object\n",
      "BudgetCr                 149 non-null float32\n",
      "BoxOfficeCollectionCr    149 non-null float64\n",
      "Youtube_Views            149 non-null int64\n",
      "Youtube_Likes            149 non-null int64\n",
      "Youtube_Dislikes         149 non-null int64\n",
      "dtypes: float32(1), float64(1), int64(5), object(3)\n",
      "memory usage: 12.2+ KB\n"
     ]
    }
   ],
   "source": [
    "#Final Dataset after concatinating both the datasets with required clean-up activities\n",
    "dataset.info()"
   ]
  },
  {
   "cell_type": "raw",
   "metadata": {},
   "source": [
    "Above are the top issues observed in the given data from both data sets. To summarize, top issues & appropriate rectification as follows:\n",
    "    \n",
    "Dataset has few null values to handle\n",
    "Movie Release date has few invalid date entries\n",
    "Release Date is not in DateTime format\n",
    "Release Time Entered has typo mistake\n",
    "Genre duplicates with additional spaces for given dataset\n",
    "Budget has inconsistent unit Cr, few in forward, few in backward\n",
    "Budget has object data type, need to convert into float\n",
    "BoxOfficeCollection has inconsistent unit Cr, few in forward, few in backward\n",
    "BoxOfficeCollection has object data type, need to convert ino float.\n",
    "Release_date format is different in the two given dataset, converting into common format\n",
    "Release_Time format is different in the two given dataset, converting into common format\n",
    "Both dataset has different columns, renaming them for merge activity\n",
    "Duplicate Movie Name after merging two datasets, keeping the first occurance\n",
    "Dropping derived column from two features likes & dislikes features, its just a sum of two features. And one of the dataset does not have 'Youtube_LikeDislikes' column.\n",
    "YoutubeLikes has float format but likes can be only integer\n",
    "YoutubeDislikes has float format but YoutubeDislikes can be only integer\n",
    "BudgetCr is in int, converting into float datatype for furture analysis.    "
   ]
  },
  {
   "cell_type": "markdown",
   "metadata": {},
   "source": [
    "# EDA with Clean dataset"
   ]
  },
  {
   "cell_type": "code",
   "execution_count": 72,
   "metadata": {},
   "outputs": [
    {
     "data": {
      "text/plain": [
       "Movie_ID                 0.018163\n",
       "Release_Time            -0.153892\n",
       "BudgetCr                 0.608916\n",
       "BoxOfficeCollectionCr    0.641249\n",
       "Youtube_Views            0.884055\n",
       "Youtube_Likes            1.000000\n",
       "Name: Youtube_Likes, dtype: float64"
      ]
     },
     "execution_count": 72,
     "metadata": {},
     "output_type": "execute_result"
    }
   ],
   "source": [
    "import seaborn as sns                             # For data visualization \n",
    "\n",
    "#Get numeric features to see any correations between features\n",
    "dataset_num=dataset.select_dtypes(include=['float64','int64','float32'])\n",
    "\n",
    "#Corelate all features against Youtube_Likes feature\n",
    "dataset_corr = dataset.corr()['Youtube_Likes'][:-1]\n",
    "dataset_corr"
   ]
  },
  {
   "cell_type": "code",
   "execution_count": 73,
   "metadata": {},
   "outputs": [
    {
     "data": {
      "image/png": "[encoded data removed]",
      "text/plain": [
       "<Figure size 1080x180 with 6 Axes>"
      ]
     },
     "metadata": {
      "needs_background": "light"
     },
     "output_type": "display_data"
    },
    {
     "data": {
      "image/png": "[encoded data removed]",
      "text/plain": [
       "<Figure size 1080x180 with 6 Axes>"
      ]
     },
     "metadata": {
      "needs_background": "light"
     },
     "output_type": "display_data"
    }
   ],
   "source": [
    "#correaltion plots using 'pairplot' to see the relationship for all features with the dependent varaiable 'Cost'.\n",
    "for i in range (0,len(dataset_num.columns),6):\n",
    "    sns.pairplot(dataset_num,y_vars=['Youtube_Likes'],x_vars=dataset_num.columns[1:1+6])"
   ]
  },
  {
   "cell_type": "code",
   "execution_count": 74,
   "metadata": {},
   "outputs": [
    {
     "data": {
      "image/png": "[encoded data removed]",
      "text/plain": [
       "<Figure size 432x288 with 1 Axes>"
      ]
     },
     "metadata": {},
     "output_type": "display_data"
    }
   ],
   "source": [
    "#Lets see any outlier in boxoffice collection \n",
    "sns.set(style=\"whitegrid\")\n",
    "ax = sns.boxplot(x=dataset_num[\"BoxOfficeCollectionCr\"])"
   ]
  },
  {
   "cell_type": "code",
   "execution_count": 75,
   "metadata": {},
   "outputs": [
    {
     "data": {
      "image/png": "[encoded data removed]",
      "text/plain": [
       "<Figure size 432x288 with 1 Axes>"
      ]
     },
     "metadata": {},
     "output_type": "display_data"
    }
   ],
   "source": [
    "#Lets see any outlier in boxoffice collection \n",
    "sns.set(style=\"whitegrid\")\n",
    "ax = sns.boxplot(x=dataset_num[\"BudgetCr\"])"
   ]
  },
  {
   "cell_type": "markdown",
   "metadata": {},
   "source": [
    "Many more can be seen to analyze the outliers. Its not part of assignment hence not doing any inference or other box plots"
   ]
  },
  {
   "cell_type": "markdown",
   "metadata": {},
   "source": [
    "# How many records are present in the dataset? Print the metadata information of dataset. "
   ]
  },
  {
   "cell_type": "code",
   "execution_count": 76,
   "metadata": {},
   "outputs": [
    {
     "name": "stdout",
     "output_type": "stream",
     "text": [
      "Number of records in the dataset    : 149\n",
      "\n",
      "Metadata information in the dataset : \n",
      "\n",
      "<class 'pandas.core.frame.DataFrame'>\n",
      "Int64Index: 149 entries, 0 to 149\n",
      "Data columns (total 10 columns):\n",
      "Movie_ID                 149 non-null int64\n",
      "Release_Date             149 non-null object\n",
      "Movie_Name               149 non-null object\n",
      "Release_Time             149 non-null int64\n",
      "Genre                    149 non-null object\n",
      "BudgetCr                 149 non-null float32\n",
      "BoxOfficeCollectionCr    149 non-null float64\n",
      "Youtube_Views            149 non-null int64\n",
      "Youtube_Likes            149 non-null int64\n",
      "Youtube_Dislikes         149 non-null int64\n",
      "dtypes: float32(1), float64(1), int64(5), object(3)\n",
      "memory usage: 12.2+ KB\n",
      "None\n"
     ]
    }
   ],
   "source": [
    "print (\"Number of records in the dataset    :\", len(dataset))\n",
    "print (\"\\nMetadata information in the dataset : \\n\")\n",
    "print (dataset.info())"
   ]
  },
  {
   "cell_type": "markdown",
   "metadata": {},
   "source": [
    "# How many movies in each genre got released in different release times?                  "
   ]
  },
  {
   "cell_type": "code",
   "execution_count": 77,
   "metadata": {},
   "outputs": [
    {
     "name": "stdout",
     "output_type": "stream",
     "text": [
      "Release_Time  Genre   \n",
      "1             Action       3\n",
      "              Comedy       3\n",
      "              Drama        4\n",
      "              Romance      3\n",
      "              Thriller     4\n",
      "2             Action       3\n",
      "              Comedy       5\n",
      "              Drama        6\n",
      "              Romance      3\n",
      "              Thriller     1\n",
      "3             Action       3\n",
      "              Comedy       5\n",
      "              Drama        1\n",
      "              Romance      4\n",
      "              Thriller     2\n",
      "4             Action      15\n",
      "              Comedy      23\n",
      "              Drama       24\n",
      "              Romance     15\n",
      "              Thriller    22\n",
      "Name: COUNTER, dtype: int64\n"
     ]
    }
   ],
   "source": [
    "dataset['COUNTER'] =1       #initially, set that counter to 1.\n",
    "#Group By Release time and then Genre and count the total released movies for each genre\n",
    "group_data = dataset.groupby(['Release_Time','Genre'])['COUNTER'].sum() #sum function\n",
    "print(group_data)"
   ]
  },
  {
   "cell_type": "markdown",
   "metadata": {},
   "source": [
    "In Dataset-1, given format is (1,2,3,4)\n",
    "Long Weekend (3), Festive Season (1), Holiday Season (2), and Normal (4)\n",
    "\n",
    "How to read above information\n",
    "\n",
    "Festive Season (1) : 3 Action Movies, 3 Comedy, 4 Drama , 3 ROmance & 4 Thriller movies released.\n",
    "Similarly, read other information. \n",
    "    \n"
   ]
  },
  {
   "cell_type": "markdown",
   "metadata": {},
   "source": [
    "#  Which month of the year, maximum movie releases are seen?       "
   ]
  },
  {
   "cell_type": "code",
   "execution_count": 78,
   "metadata": {},
   "outputs": [
    {
     "name": "stdout",
     "output_type": "stream",
     "text": [
      "year  month\n",
      "2014  5        12\n",
      "2013  7         9\n",
      "      1         8\n",
      "      3         8\n",
      "2014  3         8\n",
      "      1         7\n",
      "      7         7\n",
      "      4         6\n",
      "2013  2         6\n",
      "      5         6\n",
      "      10        6\n",
      "2014  2         6\n",
      "      6         5\n",
      "2013  11        5\n",
      "2014  9         5\n",
      "2013  9         5\n",
      "      6         5\n",
      "2014  11        5\n",
      "2013  4         5\n",
      "2015  1         5\n",
      "      2         4\n",
      "2014  8         4\n",
      "2013  8         4\n",
      "2014  10        3\n",
      "2015  3         3\n",
      "2014  12        2\n",
      "Name: COUNTER, dtype: int64\n"
     ]
    }
   ],
   "source": [
    "#Extract year from the release date and create a new column\n",
    "dataset['year'] = pd.DatetimeIndex(dataset['Release_Date']).year\n",
    "\n",
    "#Extract month from the release date and create a new column\n",
    "dataset['month'] = pd.DatetimeIndex(dataset['Release_Date']).month\n",
    "\n",
    "#Group the data year & month wise\n",
    "group_data = dataset.groupby(['year','month'])['COUNTER'].sum()\n",
    "\n",
    "#Sort the data into ascending order\n",
    "group_data.sort_values(ascending=False,inplace=True)\n",
    "\n",
    "print (group_data)\n"
   ]
  },
  {
   "cell_type": "markdown",
   "metadata": {},
   "source": [
    "First row, gives us month of the year, maximum movie releases. \n",
    "May 2014 got 12 releases which is highest. \n",
    "Decending Sorted data based on number of movies released\n"
   ]
  },
  {
   "cell_type": "markdown",
   "metadata": {},
   "source": [
    "# Which month of the year typically sees most releases of high budgeted movies, that is, movies with budget of 25 crore or more?                                                                          "
   ]
  },
  {
   "cell_type": "code",
   "execution_count": 79,
   "metadata": {},
   "outputs": [
    {
     "name": "stdout",
     "output_type": "stream",
     "text": [
      "Month of the year with movies with budget of 25 crore or more\n",
      "year  month\n",
      "2013  7        5\n",
      "Name: COUNTER, dtype: int64\n"
     ]
    }
   ],
   "source": [
    "dataset['COUNTER'] =1 \n",
    "dataset_sorted = dataset.sort_values(by=['BudgetCr'],ascending=False)\n",
    "\n",
    "#If total movies released in a month which are more tha 25 Cr within year\n",
    "group_data = dataset_sorted.loc[dataset_sorted['BudgetCr'] >= 25.0].groupby(['year','month'])['COUNTER'].sum()\n",
    "\n",
    "#Sort in decending order\n",
    "group_data.sort_values(ascending=False,inplace=True)\n",
    "\n",
    "print(\"Month of the year with movies with budget of 25 crore or more\")\n",
    "print(group_data.head(1))"
   ]
  },
  {
   "cell_type": "markdown",
   "metadata": {},
   "source": [
    " \n",
    "   Month of the year with movies with budget of 25 crore or more\n",
    "    Ans: Month 7(July), Year 2013\n",
    "        \n"
   ]
  },
  {
   "cell_type": "code",
   "execution_count": 80,
   "metadata": {},
   "outputs": [
    {
     "data": {
      "text/html": [
       "<div>\n",
       "<style scoped>\n",
       "    .dataframe tbody tr th:only-of-type {\n",
       "        vertical-align: middle;\n",
       "    }\n",
       "\n",
       "    .dataframe tbody tr th {\n",
       "        vertical-align: top;\n",
       "    }\n",
       "\n",
       "    .dataframe thead th {\n",
       "        text-align: right;\n",
       "    }\n",
       "</style>\n",
       "<table border=\"1\" class=\"dataframe\">\n",
       "  <thead>\n",
       "    <tr style=\"text-align: right;\">\n",
       "      <th></th>\n",
       "      <th>Movie_ID</th>\n",
       "      <th>Release_Date</th>\n",
       "      <th>Movie_Name</th>\n",
       "      <th>Release_Time</th>\n",
       "      <th>Genre</th>\n",
       "      <th>BudgetCr</th>\n",
       "      <th>BoxOfficeCollectionCr</th>\n",
       "      <th>Youtube_Views</th>\n",
       "      <th>Youtube_Likes</th>\n",
       "      <th>Youtube_Dislikes</th>\n",
       "      <th>COUNTER</th>\n",
       "      <th>year</th>\n",
       "      <th>month</th>\n",
       "    </tr>\n",
       "  </thead>\n",
       "  <tbody>\n",
       "    <tr>\n",
       "      <td>98</td>\n",
       "      <td>98</td>\n",
       "      <td>Jul-05-2013</td>\n",
       "      <td>Lootera</td>\n",
       "      <td>4</td>\n",
       "      <td>Romance</td>\n",
       "      <td>27.0</td>\n",
       "      <td>28.0</td>\n",
       "      <td>2581449</td>\n",
       "      <td>4416</td>\n",
       "      <td>819</td>\n",
       "      <td>1</td>\n",
       "      <td>2013</td>\n",
       "      <td>7</td>\n",
       "    </tr>\n",
       "    <tr>\n",
       "      <td>101</td>\n",
       "      <td>101</td>\n",
       "      <td>Jul-05-2013</td>\n",
       "      <td>Policegiri</td>\n",
       "      <td>4</td>\n",
       "      <td>Action</td>\n",
       "      <td>30.0</td>\n",
       "      <td>16.8</td>\n",
       "      <td>1754266</td>\n",
       "      <td>1674</td>\n",
       "      <td>420</td>\n",
       "      <td>1</td>\n",
       "      <td>2013</td>\n",
       "      <td>7</td>\n",
       "    </tr>\n",
       "    <tr>\n",
       "      <td>102</td>\n",
       "      <td>102</td>\n",
       "      <td>Jul-12-2013</td>\n",
       "      <td>Bhaag Milkha Bhaag</td>\n",
       "      <td>4</td>\n",
       "      <td>Drama</td>\n",
       "      <td>30.0</td>\n",
       "      <td>164.0</td>\n",
       "      <td>2635390</td>\n",
       "      <td>4622</td>\n",
       "      <td>456</td>\n",
       "      <td>1</td>\n",
       "      <td>2013</td>\n",
       "      <td>7</td>\n",
       "    </tr>\n",
       "    <tr>\n",
       "      <td>105</td>\n",
       "      <td>105</td>\n",
       "      <td>Jul-12-2013</td>\n",
       "      <td>B.A. Pass</td>\n",
       "      <td>4</td>\n",
       "      <td>Drama</td>\n",
       "      <td>2.0</td>\n",
       "      <td>5.9</td>\n",
       "      <td>2240961</td>\n",
       "      <td>842</td>\n",
       "      <td>348</td>\n",
       "      <td>1</td>\n",
       "      <td>2013</td>\n",
       "      <td>7</td>\n",
       "    </tr>\n",
       "    <tr>\n",
       "      <td>106</td>\n",
       "      <td>106</td>\n",
       "      <td>Jul-19-2013</td>\n",
       "      <td>Ramaiya Vastavaiya</td>\n",
       "      <td>4</td>\n",
       "      <td>Romance</td>\n",
       "      <td>35.0</td>\n",
       "      <td>30.0</td>\n",
       "      <td>3788488</td>\n",
       "      <td>4111</td>\n",
       "      <td>687</td>\n",
       "      <td>1</td>\n",
       "      <td>2013</td>\n",
       "      <td>7</td>\n",
       "    </tr>\n",
       "    <tr>\n",
       "      <td>108</td>\n",
       "      <td>108</td>\n",
       "      <td>Jul-19-2013</td>\n",
       "      <td>D Day</td>\n",
       "      <td>4</td>\n",
       "      <td>Action</td>\n",
       "      <td>30.0</td>\n",
       "      <td>24.0</td>\n",
       "      <td>1939868</td>\n",
       "      <td>1804</td>\n",
       "      <td>224</td>\n",
       "      <td>1</td>\n",
       "      <td>2013</td>\n",
       "      <td>7</td>\n",
       "    </tr>\n",
       "    <tr>\n",
       "      <td>110</td>\n",
       "      <td>110</td>\n",
       "      <td>Jul-26-2013</td>\n",
       "      <td>Issaq</td>\n",
       "      <td>4</td>\n",
       "      <td>Romance</td>\n",
       "      <td>10.0</td>\n",
       "      <td>5.0</td>\n",
       "      <td>68511</td>\n",
       "      <td>76</td>\n",
       "      <td>16</td>\n",
       "      <td>1</td>\n",
       "      <td>2013</td>\n",
       "      <td>7</td>\n",
       "    </tr>\n",
       "    <tr>\n",
       "      <td>112</td>\n",
       "      <td>112</td>\n",
       "      <td>Jul-26-2013</td>\n",
       "      <td>Bajatey Raho</td>\n",
       "      <td>4</td>\n",
       "      <td>Comedy</td>\n",
       "      <td>5.0</td>\n",
       "      <td>10.0</td>\n",
       "      <td>462722</td>\n",
       "      <td>513</td>\n",
       "      <td>77</td>\n",
       "      <td>1</td>\n",
       "      <td>2013</td>\n",
       "      <td>7</td>\n",
       "    </tr>\n",
       "    <tr>\n",
       "      <td>114</td>\n",
       "      <td>114</td>\n",
       "      <td>Jul-26-2013</td>\n",
       "      <td>Nasha</td>\n",
       "      <td>4</td>\n",
       "      <td>Thriller</td>\n",
       "      <td>4.0</td>\n",
       "      <td>8.0</td>\n",
       "      <td>613448</td>\n",
       "      <td>288</td>\n",
       "      <td>188</td>\n",
       "      <td>1</td>\n",
       "      <td>2013</td>\n",
       "      <td>7</td>\n",
       "    </tr>\n",
       "  </tbody>\n",
       "</table>\n",
       "</div>"
      ],
      "text/plain": [
       "     Movie_ID Release_Date          Movie_Name  Release_Time     Genre  \\\n",
       "98         98  Jul-05-2013             Lootera             4   Romance   \n",
       "101       101  Jul-05-2013          Policegiri             4    Action   \n",
       "102       102  Jul-12-2013  Bhaag Milkha Bhaag             4     Drama   \n",
       "105       105  Jul-12-2013           B.A. Pass             4     Drama   \n",
       "106       106  Jul-19-2013  Ramaiya Vastavaiya             4   Romance   \n",
       "108       108  Jul-19-2013               D Day             4    Action   \n",
       "110       110  Jul-26-2013               Issaq             4   Romance   \n",
       "112       112  Jul-26-2013        Bajatey Raho             4    Comedy   \n",
       "114       114  Jul-26-2013               Nasha             4  Thriller   \n",
       "\n",
       "     BudgetCr  BoxOfficeCollectionCr  Youtube_Views  Youtube_Likes  \\\n",
       "98       27.0                   28.0        2581449           4416   \n",
       "101      30.0                   16.8        1754266           1674   \n",
       "102      30.0                  164.0        2635390           4622   \n",
       "105       2.0                    5.9        2240961            842   \n",
       "106      35.0                   30.0        3788488           4111   \n",
       "108      30.0                   24.0        1939868           1804   \n",
       "110      10.0                    5.0          68511             76   \n",
       "112       5.0                   10.0         462722            513   \n",
       "114       4.0                    8.0         613448            288   \n",
       "\n",
       "     Youtube_Dislikes  COUNTER  year  month  \n",
       "98                819        1  2013      7  \n",
       "101               420        1  2013      7  \n",
       "102               456        1  2013      7  \n",
       "105               348        1  2013      7  \n",
       "106               687        1  2013      7  \n",
       "108               224        1  2013      7  \n",
       "110                16        1  2013      7  \n",
       "112                77        1  2013      7  \n",
       "114               188        1  2013      7  "
      ]
     },
     "execution_count": 80,
     "metadata": {},
     "output_type": "execute_result"
    }
   ],
   "source": [
    "#Lets validate the result as well for first interpretation\n",
    "dataset.loc[(dataset['year'] == 2013) & (dataset['month'] == 7)]\n"
   ]
  },
  {
   "cell_type": "markdown",
   "metadata": {},
   "source": [
    "Ans: In July, 2013, 5 movies released with budget 25 or more than 25 Crores"
   ]
  },
  {
   "cell_type": "markdown",
   "metadata": {},
   "source": [
    "# Which are the top 10 movies with maximum return of investment (ROI)? Calculate ROI as (Box office collection – Budget) / Budget.    \n"
   ]
  },
  {
   "cell_type": "code",
   "execution_count": 81,
   "metadata": {},
   "outputs": [
    {
     "name": "stdout",
     "output_type": "stream",
     "text": [
      "Top 10 Movies with best ROI\n"
     ]
    },
    {
     "data": {
      "text/html": [
       "<div>\n",
       "<style scoped>\n",
       "    .dataframe tbody tr th:only-of-type {\n",
       "        vertical-align: middle;\n",
       "    }\n",
       "\n",
       "    .dataframe tbody tr th {\n",
       "        vertical-align: top;\n",
       "    }\n",
       "\n",
       "    .dataframe thead th {\n",
       "        text-align: right;\n",
       "    }\n",
       "</style>\n",
       "<table border=\"1\" class=\"dataframe\">\n",
       "  <thead>\n",
       "    <tr style=\"text-align: right;\">\n",
       "      <th></th>\n",
       "      <th>Movie_Name</th>\n",
       "      <th>BoxOfficeCollectionCr</th>\n",
       "      <th>BudgetCr</th>\n",
       "      <th>ROI</th>\n",
       "    </tr>\n",
       "  </thead>\n",
       "  <tbody>\n",
       "    <tr>\n",
       "      <td>3</td>\n",
       "      <td>Rajdhani Express</td>\n",
       "      <td>383.0</td>\n",
       "      <td>7.0</td>\n",
       "      <td>53.714286</td>\n",
       "    </tr>\n",
       "    <tr>\n",
       "      <td>65</td>\n",
       "      <td>Aashiqui 2</td>\n",
       "      <td>110.0</td>\n",
       "      <td>12.0</td>\n",
       "      <td>8.166667</td>\n",
       "    </tr>\n",
       "    <tr>\n",
       "      <td>90</td>\n",
       "      <td>PK</td>\n",
       "      <td>735.0</td>\n",
       "      <td>85.0</td>\n",
       "      <td>7.647059</td>\n",
       "    </tr>\n",
       "    <tr>\n",
       "      <td>133</td>\n",
       "      <td>Grand Masti</td>\n",
       "      <td>298.0</td>\n",
       "      <td>35.0</td>\n",
       "      <td>7.514286</td>\n",
       "    </tr>\n",
       "    <tr>\n",
       "      <td>136</td>\n",
       "      <td>The Lunchbox</td>\n",
       "      <td>85.0</td>\n",
       "      <td>10.0</td>\n",
       "      <td>7.500000</td>\n",
       "    </tr>\n",
       "    <tr>\n",
       "      <td>88</td>\n",
       "      <td>Fukrey</td>\n",
       "      <td>36.2</td>\n",
       "      <td>5.0</td>\n",
       "      <td>6.240000</td>\n",
       "    </tr>\n",
       "    <tr>\n",
       "      <td>59</td>\n",
       "      <td>Mary Kom</td>\n",
       "      <td>104.0</td>\n",
       "      <td>15.0</td>\n",
       "      <td>5.933333</td>\n",
       "    </tr>\n",
       "    <tr>\n",
       "      <td>129</td>\n",
       "      <td>Shahid</td>\n",
       "      <td>40.0</td>\n",
       "      <td>6.0</td>\n",
       "      <td>5.666667</td>\n",
       "    </tr>\n",
       "    <tr>\n",
       "      <td>37</td>\n",
       "      <td>Humpty Sharma Ki Dulhania</td>\n",
       "      <td>130.0</td>\n",
       "      <td>20.0</td>\n",
       "      <td>5.500000</td>\n",
       "    </tr>\n",
       "    <tr>\n",
       "      <td>102</td>\n",
       "      <td>Bhaag Milkha Bhaag</td>\n",
       "      <td>164.0</td>\n",
       "      <td>30.0</td>\n",
       "      <td>4.466667</td>\n",
       "    </tr>\n",
       "  </tbody>\n",
       "</table>\n",
       "</div>"
      ],
      "text/plain": [
       "                    Movie_Name  BoxOfficeCollectionCr  BudgetCr        ROI\n",
       "3             Rajdhani Express                  383.0       7.0  53.714286\n",
       "65                  Aashiqui 2                  110.0      12.0   8.166667\n",
       "90                          PK                  735.0      85.0   7.647059\n",
       "133                Grand Masti                  298.0      35.0   7.514286\n",
       "136               The Lunchbox                   85.0      10.0   7.500000\n",
       "88                      Fukrey                   36.2       5.0   6.240000\n",
       "59                    Mary Kom                  104.0      15.0   5.933333\n",
       "129                     Shahid                   40.0       6.0   5.666667\n",
       "37   Humpty Sharma Ki Dulhania                  130.0      20.0   5.500000\n",
       "102         Bhaag Milkha Bhaag                  164.0      30.0   4.466667"
      ]
     },
     "execution_count": 81,
     "metadata": {},
     "output_type": "execute_result"
    }
   ],
   "source": [
    "#We will introduce the new column ROI and sort it in descending order and print first 10 rows. \n",
    "dataset['ROI'] = (dataset['BoxOfficeCollectionCr'] - dataset['BudgetCr'])/dataset['BudgetCr']\n",
    "\n",
    "#Sort the column in descending order\n",
    "dataset_sorted = dataset.sort_values(by=['ROI'],ascending=False)\n",
    "\n",
    "#Print the top 10 movies based on ROI\n",
    "print(\"Top 10 Movies with best ROI\")\n",
    "dataset_sorted[['Movie_Name','BoxOfficeCollectionCr','BudgetCr','ROI']].head(10)\n"
   ]
  }
 ],
 "metadata": {
  "kernelspec": {
   "display_name": "Python 3",
   "language": "python",
   "name": "python3"
  },
  "language_info": {
   "codemirror_mode": {
    "name": "ipython",
    "version": 3
   },
   "file_extension": ".py",
   "mimetype": "text/x-python",
   "name": "python",
   "nbconvert_exporter": "python",
   "pygments_lexer": "ipython3",
   "version": "3.7.4"
  }
 },
 "nbformat": 4,
 "nbformat_minor": 2
}
